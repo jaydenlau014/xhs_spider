{
 "cells": [
  {
   "cell_type": "code",
   "execution_count": 1,
   "id": "56b6c3ae",
   "metadata": {
    "execution": {
     "iopub.execute_input": "2025-04-29T08:15:39.785687Z",
     "iopub.status.busy": "2025-04-29T08:15:39.785469Z",
     "iopub.status.idle": "2025-04-29T08:15:40.116107Z",
     "shell.execute_reply": "2025-04-29T08:15:40.115812Z"
    },
    "papermill": {
     "duration": 0.334371,
     "end_time": "2025-04-29T08:15:40.116866",
     "exception": false,
     "start_time": "2025-04-29T08:15:39.782495",
     "status": "completed"
    },
    "tags": []
   },
   "outputs": [],
   "source": [
    "import os\n",
    "from loguru import logger\n",
    "from apis.pc_apis import XHS_Apis\n",
    "from xhs_utils.common_utils import init\n",
    "from xhs_utils.data_util import handle_note_info, download_note, save_to_xlsx, timestamp_to_str\n",
    "import pandas as pd\n",
    "from concurrent.futures import ThreadPoolExecutor, as_completed\n",
    "import random\n",
    "import time\n",
    "import pandas as pd\n",
    "from itertools import cycle\n",
    "import logging\n",
    "\n",
    "\n",
    "# logging as before…\n",
    "logging.basicConfig(level=logging.INFO)\n",
    "logger = logging.getLogger(__name__)"
   ]
  },
  {
   "cell_type": "code",
   "execution_count": 2,
   "id": "94122ab9",
   "metadata": {
    "execution": {
     "iopub.execute_input": "2025-04-29T08:15:40.118943Z",
     "iopub.status.busy": "2025-04-29T08:15:40.118806Z",
     "iopub.status.idle": "2025-04-29T08:15:40.124106Z",
     "shell.execute_reply": "2025-04-29T08:15:40.123765Z"
    },
    "papermill": {
     "duration": 0.007361,
     "end_time": "2025-04-29T08:15:40.125163",
     "exception": false,
     "start_time": "2025-04-29T08:15:40.117802",
     "status": "completed"
    },
    "tags": []
   },
   "outputs": [],
   "source": [
    "class Data_Spider():\n",
    "    def __init__(self):\n",
    "        self.xhs_apis = XHS_Apis()\n",
    "\n",
    "    def spider_note(self, note_url: str, cookies_str: str, proxies=None):\n",
    "        \"\"\"\n",
    "        爬取一个笔记的信息\n",
    "        :param note_url:\n",
    "        :param cookies_str:\n",
    "        :return:\n",
    "        \"\"\"\n",
    "        note_info = None\n",
    "        try:\n",
    "            success, msg, note_info = self.xhs_apis.get_note_info(note_url, cookies_str, proxies)\n",
    "            if success:\n",
    "                note_info = note_info['data']['items'][0]\n",
    "                note_info['url'] = note_url\n",
    "                note_info = handle_note_info(note_info)\n",
    "        except Exception as e:\n",
    "            success = False\n",
    "            msg = e\n",
    "        logger.info(f'Retrieving note info - {note_url}: {success}, msg: {msg}')\n",
    "        return success, msg, note_info\n",
    "\n",
    "    def spider_some_note(self, list_notes_url: list, cookies_str: str, proxies=None):\n",
    "        \"\"\"\n",
    "        爬取一些笔记的信息\n",
    "        :param list_notes:\n",
    "        :param cookies_str:\n",
    "        :param base_path:\n",
    "        :return:\n",
    "        \"\"\"\n",
    "        list_note_info = []\n",
    "        for note_url in list_notes_url:\n",
    "            success, msg, note_info = self.spider_note(note_url, cookies_str, proxies)\n",
    "            if note_info is not None and success:\n",
    "                list_note_info.append(note_info)\n",
    "        # for note_info in list_note_info:\n",
    "        #     if save_choice == 'all' or save_choice == 'media':\n",
    "        #         download_note(note_info, base_path['media'])\n",
    "        # if save_choice == 'all' or save_choice == 'excel':\n",
    "        #     file_path = os.path.abspath(os.path.join(base_path['excel'], f'{excel_name}.xlsx'))\n",
    "        #     save_to_xlsx(list_note_info, file_path)\n",
    "        return list_note_info\n",
    "\n",
    "    def spider_some_search_note(self, query: str, require_num: int, cookies_str: str, sort=\"general\", proxies=None):\n",
    "        \"\"\"\n",
    "            指定数量搜索笔记，设置排序方式和笔记类型和笔记数量\n",
    "            :param query 搜索的关键词\n",
    "            :param require_num 搜索的数量\n",
    "            :param cookies_str 你的cookies\n",
    "            :param sort 排序方式 general:综合排序, time_descending:时间排序, popularity_descending:热度排序\n",
    "            返回搜索的结果\n",
    "        \"\"\"\n",
    "        time.sleep(3)\n",
    "        list_note_url = []\n",
    "        try:\n",
    "            success, msg, list_notes = self.xhs_apis.search_some_note(query, require_num, cookies_str, sort, proxies)\n",
    "            if success:\n",
    "                list_notes = list(filter(lambda x: x['model_type'] == \"note\", list_notes))\n",
    "                # logger.info(f'搜索关键词 {query} 笔记数量: {len(list_notes)}')\n",
    "                logger.info(f'Searching keyword \"{query}\", note count: {len(list_notes)}')\n",
    "                for note in list_notes:\n",
    "                    note_url = f\"https://www.xiaohongshu.com/explore/{note['id']}?xsec_token={note['xsec_token']}\"\n",
    "                    list_note_url.append(note_url)\n",
    "            list_note_info = self.spider_some_note(list_note_url, cookies_str, proxies)\n",
    "        except Exception as e:\n",
    "            success = False\n",
    "            msg = e\n",
    "        # logger.info(f'搜索关键词 {query} 笔记: {success}, msg: {msg}')\n",
    "        logger.info(f'Searching keyword \"{query}\", note: {success}, msg: {msg}')\n",
    "        return success, msg, list_note_info\n",
    "\n",
    "    def spider_search_note_all_comment(self, note_info: dict, cookies_str: str, proxies: dict = None):\n",
    "        time.sleep(3)\n",
    "        list_all_comment = []\n",
    "        try:\n",
    "            note_url = note_info[\"note_url\"]\n",
    "            success, msg, list_all_comment = self.xhs_apis.get_note_all_comment(note_url, cookies_str, proxies)\n",
    "            if not success:\n",
    "                raise Exception(msg)\n",
    "        except Exception as e:\n",
    "            success = False\n",
    "            msg = e\n",
    "        logger.info(f'Retrieving all comments - {note_url}: {success}, msg: {msg}')\n",
    "        return success, msg, list_all_comment\n"
   ]
  },
  {
   "cell_type": "code",
   "execution_count": 3,
   "id": "fa0b8b33",
   "metadata": {
    "execution": {
     "iopub.execute_input": "2025-04-29T08:15:40.128183Z",
     "iopub.status.busy": "2025-04-29T08:15:40.128002Z",
     "iopub.status.idle": "2025-04-29T08:15:40.130036Z",
     "shell.execute_reply": "2025-04-29T08:15:40.129657Z"
    },
    "papermill": {
     "duration": 0.004283,
     "end_time": "2025-04-29T08:15:40.130818",
     "exception": false,
     "start_time": "2025-04-29T08:15:40.126535",
     "status": "completed"
    },
    "tags": []
   },
   "outputs": [],
   "source": [
    "# cookies_str, base_path = init()\n",
    "# note_url = \"https://www.xiaohongshu.com/explore/67b55e92000000002a00d220?xsec_token=ABB8kF8kCKc_JZwiPUZ-ii4DW8mX6djDKiG4AT2WuDyJA=\"\n",
    "# # Data_Spider().spider_search_note_all_comment(note_url, cookie_str)\n",
    "# Data_Spider().spider_note(note_url, cookies_str)\n",
    "# XHS_Apis().get_note_all_comment(note_url, cookies_str)"
   ]
  },
  {
   "cell_type": "code",
   "execution_count": 4,
   "id": "3b5c22f8",
   "metadata": {
    "execution": {
     "iopub.execute_input": "2025-04-29T08:15:40.134835Z",
     "iopub.status.busy": "2025-04-29T08:15:40.134717Z",
     "iopub.status.idle": "2025-04-29T08:32:25.496205Z",
     "shell.execute_reply": "2025-04-29T08:32:25.495756Z"
    },
    "papermill": {
     "duration": 1005.199808,
     "end_time": "2025-04-29T08:32:25.331687",
     "exception": false,
     "start_time": "2025-04-29T08:15:40.131879",
     "status": "completed"
    },
    "tags": []
   },
   "outputs": [
    {
     "name": "stderr",
     "output_type": "stream",
     "text": [
      "INFO:__main__:Searching keyword \"ifastglobalbank\", note count: 50\n"
     ]
    },
    {
     "name": "stderr",
     "output_type": "stream",
     "text": [
      "INFO:__main__:Retrieving note info - https://www.xiaohongshu.com/explore/67e29d0a000000000703645e?xsec_token=ABYNAWS8-LhXoQg-u2p4NdyrLbSRH0LwSGeDt0kL2m2kg=: True, msg: success\n"
     ]
    },
    {
     "name": "stderr",
     "output_type": "stream",
     "text": [
      "INFO:__main__:Retrieving note info - https://www.xiaohongshu.com/explore/6781e20e0000000017038ff5?xsec_token=ABeCQOIir9rjMRbIKYjfVc8hWFOTpg2Xjg1UUg_oE9gfY=: True, msg: success\n"
     ]
    },
    {
     "name": "stderr",
     "output_type": "stream",
     "text": [
      "INFO:__main__:Retrieving note info - https://www.xiaohongshu.com/explore/67b55e92000000002a00d220?xsec_token=ABm-vYGc-CIFwha5novRSrv4G024vESJ57KM6XyMb1ZHM=: True, msg: success\n"
     ]
    },
    {
     "name": "stderr",
     "output_type": "stream",
     "text": [
      "INFO:__main__:Retrieving note info - https://www.xiaohongshu.com/explore/680a2eae000000000b02fc17?xsec_token=ABPcwOmvei8nvj-s5tS-rFnt5CK4vIviBVYGwLFi9YbMk=: True, msg: success\n"
     ]
    },
    {
     "name": "stderr",
     "output_type": "stream",
     "text": [
      "INFO:__main__:Retrieving note info - https://www.xiaohongshu.com/explore/65fc0a27000000001203d8b4?xsec_token=ABkazOZrG-lny4u85dD5Rpf1_CwcR649ZmGSdu3jxhQlk=: True, msg: success\n"
     ]
    },
    {
     "name": "stderr",
     "output_type": "stream",
     "text": [
      "INFO:__main__:Retrieving note info - https://www.xiaohongshu.com/explore/680b5522000000001c007ebf?xsec_token=ABREVzzv7hWHwZd9s5DtNwngTgqU43u30NY-vTfr1NyzI=: True, msg: success\n"
     ]
    },
    {
     "name": "stderr",
     "output_type": "stream",
     "text": [
      "INFO:__main__:Retrieving note info - https://www.xiaohongshu.com/explore/67e30ae1000000000903b3b7?xsec_token=AByW9BehrPNJBaQv0bCxCvBx4qoFS01KTmKhgHSRnrdCs=: True, msg: success\n"
     ]
    },
    {
     "name": "stderr",
     "output_type": "stream",
     "text": [
      "INFO:__main__:Retrieving note info - https://www.xiaohongshu.com/explore/65f92a4700000000130272ab?xsec_token=ABCrtO3Wza0GolLh49-wJEbyee88I5Z0Bf6YNvm-GVbrU=: True, msg: success\n"
     ]
    },
    {
     "name": "stderr",
     "output_type": "stream",
     "text": [
      "INFO:__main__:Retrieving note info - https://www.xiaohongshu.com/explore/67b59f58000000001201d61c?xsec_token=ABm-vYGc-CIFwha5novRSrvzXLJWivJtz0ywD7E_JuVbw=: True, msg: success\n"
     ]
    },
    {
     "name": "stderr",
     "output_type": "stream",
     "text": [
      "INFO:__main__:Retrieving note info - https://www.xiaohongshu.com/explore/6781d2c10000000020026f6a?xsec_token=ABeCQOIir9rjMRbIKYjfVc8irK86OgRxI9vQ-mgNlBISk=: True, msg: success\n"
     ]
    },
    {
     "name": "stderr",
     "output_type": "stream",
     "text": [
      "INFO:__main__:Retrieving note info - https://www.xiaohongshu.com/explore/680b49eb000000001e004e99?xsec_token=ABREVzzv7hWHwZd9s5DtNwnqunA1jGvbRuh5SjwMmizWs=: True, msg: success\n"
     ]
    },
    {
     "name": "stderr",
     "output_type": "stream",
     "text": [
      "INFO:__main__:Retrieving note info - https://www.xiaohongshu.com/explore/67de6089000000001c03f226?xsec_token=AB4qfeYVwInKTmt_rj4QqGTtcB9cs1PLcuZiaCyzyMU_g=: True, msg: success\n"
     ]
    },
    {
     "name": "stderr",
     "output_type": "stream",
     "text": [
      "INFO:__main__:Retrieving note info - https://www.xiaohongshu.com/explore/67e7fbd5000000001c008204?xsec_token=ABJucXYAX-nkZDSFOlc4sOOz_oVsP9Q9iOJ83rKHTt7Qg=: True, msg: success\n"
     ]
    },
    {
     "name": "stderr",
     "output_type": "stream",
     "text": [
      "INFO:__main__:Retrieving note info - https://www.xiaohongshu.com/explore/665b12490000000005004972?xsec_token=ABc2hHJ8jqa9Euyg2ofLnOh8mpPSt-RTDrvtCq9egGjV4=: True, msg: success\n"
     ]
    },
    {
     "name": "stderr",
     "output_type": "stream",
     "text": [
      "INFO:__main__:Retrieving note info - https://www.xiaohongshu.com/explore/67e5c2b6000000001c006368?xsec_token=ABcR8t4NFnZO1SZkol_Tn7JbXe-xvmcl2aQ_lXI4MiurM=: True, msg: success\n"
     ]
    },
    {
     "name": "stderr",
     "output_type": "stream",
     "text": [
      "INFO:__main__:Retrieving note info - https://www.xiaohongshu.com/explore/6773cf910000000013018154?xsec_token=ABWv67OHtiDRoOP8kgSVK7_-e_iXH9CHn6oo3hQceWG4I=: True, msg: success\n"
     ]
    },
    {
     "name": "stderr",
     "output_type": "stream",
     "text": [
      "INFO:__main__:Retrieving note info - https://www.xiaohongshu.com/explore/67f7c53e000000001b024e91?xsec_token=ABhAziZsZNNX2BLk5l3NKxluiyu_HGfEjqcZ-SJwd6YFY=: True, msg: success\n"
     ]
    },
    {
     "name": "stderr",
     "output_type": "stream",
     "text": [
      "INFO:__main__:Retrieving note info - https://www.xiaohongshu.com/explore/6628285d0000000003022cea?xsec_token=AB_mcaYQiXePqNy-2tA1TIFu5zIVxHmDguiAiquIw9Mws=: True, msg: success\n"
     ]
    },
    {
     "name": "stderr",
     "output_type": "stream",
     "text": [
      "INFO:__main__:Retrieving note info - https://www.xiaohongshu.com/explore/66ca13dc000000001f01c73a?xsec_token=ABt6JhBqrz5P-KKD33L04BG0zQsiD54g_IJ-8S7bzMkOw=: True, msg: success\n"
     ]
    },
    {
     "name": "stderr",
     "output_type": "stream",
     "text": [
      "INFO:__main__:Retrieving note info - https://www.xiaohongshu.com/explore/67e611ef000000000903956b?xsec_token=ABDeosgIOQxr2l6eoZ5Gjmx57X8PHIzac2o8ViqWWSAr4=: True, msg: success\n"
     ]
    },
    {
     "name": "stderr",
     "output_type": "stream",
     "text": [
      "INFO:__main__:Retrieving note info - https://www.xiaohongshu.com/explore/67cc3dd80000000006029fe9?xsec_token=ABFHGqkMmuvFHrMJjdIqg92sjb_W3_yYZgKNi2bLDXYCw=: True, msg: success\n"
     ]
    },
    {
     "name": "stderr",
     "output_type": "stream",
     "text": [
      "INFO:__main__:Retrieving note info - https://www.xiaohongshu.com/explore/67e611ef000000000903956b?xsec_token=ABDeosgIOQxr2l6eoZ5Gjmx57X8PHIzac2o8ViqWWSAr4=: True, msg: success\n"
     ]
    },
    {
     "name": "stderr",
     "output_type": "stream",
     "text": [
      "INFO:__main__:Retrieving note info - https://www.xiaohongshu.com/explore/67f4e8c1000000001e00a167?xsec_token=ABM2fF0FDGB2C1ra8SWdyHFomBcqK7mAgBfFk1ufcFMYs=: True, msg: success\n"
     ]
    },
    {
     "name": "stderr",
     "output_type": "stream",
     "text": [
      "INFO:__main__:Retrieving note info - https://www.xiaohongshu.com/explore/67beb4d6000000001201cba4?xsec_token=AB6xreGnlQzkhL1un7RZG9B-Ba6vvPYR1pcVzJjqD2Rxs=: True, msg: success\n"
     ]
    },
    {
     "name": "stderr",
     "output_type": "stream",
     "text": [
      "INFO:__main__:Retrieving note info - https://www.xiaohongshu.com/explore/680b49eb000000001e004e99?xsec_token=ABREVzzv7hWHwZd9s5DtNwnqunA1jGvbRuh5SjwMmizWs=: True, msg: success\n"
     ]
    },
    {
     "name": "stderr",
     "output_type": "stream",
     "text": [
      "INFO:__main__:Retrieving note info - https://www.xiaohongshu.com/explore/66979e6e0000000025002b5d?xsec_token=ABUbxuyai0UneMnz-fLZuZFP5oK8LzigwtXX4ehduKIQ4=: True, msg: success\n"
     ]
    },
    {
     "name": "stderr",
     "output_type": "stream",
     "text": [
      "INFO:__main__:Retrieving note info - https://www.xiaohongshu.com/explore/67d04798000000002903fd04?xsec_token=AByzvkOTfvVKMrQMwC0RWYPgYLyZH-O1eZeojcB8X68GA=: True, msg: success\n"
     ]
    },
    {
     "name": "stderr",
     "output_type": "stream",
     "text": [
      "INFO:__main__:Retrieving note info - https://www.xiaohongshu.com/explore/6778922a000000000800f2ec?xsec_token=ABx2sP8bomcbaLSNdb1_hU3GBroZH7MNS7AbZzExXGQeI=: True, msg: success\n"
     ]
    },
    {
     "name": "stderr",
     "output_type": "stream",
     "text": [
      "INFO:__main__:Retrieving note info - https://www.xiaohongshu.com/explore/67e7fbd5000000001c008204?xsec_token=ABJucXYAX-nkZDSFOlc4sOOz_oVsP9Q9iOJ83rKHTt7Qg=: True, msg: success\n"
     ]
    },
    {
     "name": "stderr",
     "output_type": "stream",
     "text": [
      "INFO:__main__:Retrieving note info - https://www.xiaohongshu.com/explore/67e74147000000001b03e984?xsec_token=ABJucXYAX-nkZDSFOlc4sOO-ComGMLK1w47-z0c63n_ho=: True, msg: success\n"
     ]
    },
    {
     "name": "stderr",
     "output_type": "stream",
     "text": [
      "INFO:__main__:Retrieving note info - https://www.xiaohongshu.com/explore/67bee97500000000290290c4?xsec_token=AB6xreGnlQzkhL1un7RZG9B54z04_V1Zt9XTPZG8uNyak=: True, msg: success\n"
     ]
    },
    {
     "name": "stderr",
     "output_type": "stream",
     "text": [
      "INFO:__main__:Retrieving note info - https://www.xiaohongshu.com/explore/64c6213b000000001201cc2c?xsec_token=ABbozwNVXFfrdCFBNNKPix7URdZZNaI-kxIalgrmEKzzk=: True, msg: success\n"
     ]
    },
    {
     "name": "stderr",
     "output_type": "stream",
     "text": [
      "INFO:__main__:Retrieving note info - https://www.xiaohongshu.com/explore/67e5459f000000001a006a57?xsec_token=ABcR8t4NFnZO1SZkol_Tn7JSmogP4j6kZyjP4shuZRiQ8=: True, msg: success\n"
     ]
    },
    {
     "name": "stderr",
     "output_type": "stream",
     "text": [
      "INFO:__main__:Retrieving note info - https://www.xiaohongshu.com/explore/678235b6000000000b02336b?xsec_token=ABfTx7JpIRa7hZOMS_Kl0EkVt496qe2IJeIDJWnvDz5g4=: True, msg: success\n"
     ]
    },
    {
     "name": "stderr",
     "output_type": "stream",
     "text": [
      "INFO:__main__:Retrieving note info - https://www.xiaohongshu.com/explore/67fe66e9000000001d0161d4?xsec_token=ABDppAK6njm6-Tbd3yP0Gt1gRooWPfNnI19JJdM51zsz4=: True, msg: success\n"
     ]
    },
    {
     "name": "stderr",
     "output_type": "stream",
     "text": [
      "INFO:__main__:Retrieving note info - https://www.xiaohongshu.com/explore/6790cf31000000001902ea58?xsec_token=ABOHcxmyFg17KMbs8-NPJaFbs3pzR_9_Ipz0bYUfEAXbA=: True, msg: success\n"
     ]
    },
    {
     "name": "stderr",
     "output_type": "stream",
     "text": [
      "INFO:__main__:Retrieving note info - https://www.xiaohongshu.com/explore/67e2837f000000000903a657?xsec_token=ABYNAWS8-LhXoQg-u2p4NdyjNkfOP18gOnweOEsJwiwuE=: True, msg: success\n"
     ]
    },
    {
     "name": "stderr",
     "output_type": "stream",
     "text": [
      "INFO:__main__:Retrieving note info - https://www.xiaohongshu.com/explore/66f285d2000000002a037bfc?xsec_token=ABTct9Qh0j0Eh8jiSXFsE4raE1-QQNuzqeDfnbttj1K04=: True, msg: success\n"
     ]
    },
    {
     "name": "stderr",
     "output_type": "stream",
     "text": [
      "INFO:__main__:Retrieving note info - https://www.xiaohongshu.com/explore/680e20bc000000002100dab9?xsec_token=AB13geBZi1vcSoICR1A-6ulugP18Kh4v7M_GNVjn278AQ=: True, msg: success\n"
     ]
    },
    {
     "name": "stderr",
     "output_type": "stream",
     "text": [
      "INFO:__main__:Retrieving note info - https://www.xiaohongshu.com/explore/6792f6b5000000002902b61f?xsec_token=ABZ-kRxiU85UbQp8xZMBh8fgHfVM0Awm2aEVWth1OeyBw=: True, msg: success\n"
     ]
    },
    {
     "name": "stderr",
     "output_type": "stream",
     "text": [
      "INFO:__main__:Retrieving note info - https://www.xiaohongshu.com/explore/67e62ef7000000001202daf0?xsec_token=ABDeosgIOQxr2l6eoZ5Gjmx0S6EalH4iTP5UPHcF--U2g=: True, msg: success\n"
     ]
    },
    {
     "name": "stderr",
     "output_type": "stream",
     "text": [
      "INFO:__main__:Retrieving note info - https://www.xiaohongshu.com/explore/66c58ef7000000001f014078?xsec_token=ABcFoUrBj3jeNHp3Zhp8sn5GE_6v9Epm9TM0h6IJAEvQQ=: True, msg: success\n"
     ]
    },
    {
     "name": "stderr",
     "output_type": "stream",
     "text": [
      "INFO:__main__:Retrieving note info - https://www.xiaohongshu.com/explore/675c54640000000002034f79?xsec_token=ABLnetzjK4NapCsVbF_IkmOkz2YkAVb5kA1sB6-VYmAmY=: True, msg: success\n"
     ]
    },
    {
     "name": "stderr",
     "output_type": "stream",
     "text": [
      "INFO:__main__:Retrieving note info - https://www.xiaohongshu.com/explore/67886d03000000001b00aff2?xsec_token=ABi10dVJjcCWCATw-rgagv2ZkGt5kkj5-21TTtaV_1yl4=: True, msg: success\n"
     ]
    },
    {
     "name": "stderr",
     "output_type": "stream",
     "text": [
      "INFO:__main__:Retrieving note info - https://www.xiaohongshu.com/explore/67d94c5a000000000e006ffe?xsec_token=AB2uSHe53XTU4ioiXQmDqqDfDZSLy2ZWmXVbVeAUlU58Q=: True, msg: success\n"
     ]
    },
    {
     "name": "stderr",
     "output_type": "stream",
     "text": [
      "INFO:__main__:Retrieving note info - https://www.xiaohongshu.com/explore/67af535600000000290299fb?xsec_token=ABE-FgKhoVG2Jj4naGRT6s_xGuFb9AATtqunBH0Cn372A=: True, msg: success\n"
     ]
    },
    {
     "name": "stderr",
     "output_type": "stream",
     "text": [
      "INFO:__main__:Retrieving note info - https://www.xiaohongshu.com/explore/6801bd56000000001c00a050?xsec_token=AB_-H8GpGw45uImlqPiyY3X_FNXGBIZlsRLpdcZWDtgPs=: True, msg: success\n"
     ]
    },
    {
     "name": "stderr",
     "output_type": "stream",
     "text": [
      "INFO:__main__:Retrieving note info - https://www.xiaohongshu.com/explore/680c8671000000001c0102c9?xsec_token=AByQMoRdcGhfBJoKvYzh_DTN-H8ZcRAWyNWRLwvV5AdpY=: True, msg: success\n"
     ]
    },
    {
     "name": "stderr",
     "output_type": "stream",
     "text": [
      "INFO:__main__:Retrieving note info - https://www.xiaohongshu.com/explore/67f52fcd000000001b03e9f4?xsec_token=ABplQmZkPFg0PTaB3HNd7vdK6TOzOMNs2cEGlNV3vodm4=: True, msg: success\n"
     ]
    },
    {
     "name": "stderr",
     "output_type": "stream",
     "text": [
      "INFO:__main__:Retrieving note info - https://www.xiaohongshu.com/explore/67e569680000000003028dec?xsec_token=ABcR8t4NFnZO1SZkol_Tn7JVu5qhBJlOkLVppxOI9LYGo=: True, msg: success\n"
     ]
    },
    {
     "name": "stderr",
     "output_type": "stream",
     "text": [
      "INFO:__main__:Searching keyword \"ifastglobalbank\", note: True, msg: success\n"
     ]
    },
    {
     "name": "stderr",
     "output_type": "stream",
     "text": [
      "INFO:__main__:Searching keyword \"ifastgb\", note count: 41\n"
     ]
    },
    {
     "name": "stderr",
     "output_type": "stream",
     "text": [
      "INFO:__main__:Retrieving note info - https://www.xiaohongshu.com/explore/67b59f58000000001201d61c?xsec_token=ABm-vYGc-CIFwha5novRSrvzXLJWivJtz0ywD7E_JuVbw=: True, msg: success\n"
     ]
    },
    {
     "name": "stderr",
     "output_type": "stream",
     "text": [
      "INFO:__main__:Retrieving note info - https://www.xiaohongshu.com/explore/67e30ae1000000000903b3b7?xsec_token=AByW9BehrPNJBaQv0bCxCvBx4qoFS01KTmKhgHSRnrdCs=: True, msg: success\n"
     ]
    },
    {
     "name": "stderr",
     "output_type": "stream",
     "text": [
      "INFO:__main__:Retrieving note info - https://www.xiaohongshu.com/explore/67e611ef000000000903956b?xsec_token=ABDeosgIOQxr2l6eoZ5Gjmx57X8PHIzac2o8ViqWWSAr4=: True, msg: success\n"
     ]
    },
    {
     "name": "stderr",
     "output_type": "stream",
     "text": [
      "INFO:__main__:Retrieving note info - https://www.xiaohongshu.com/explore/6628285d0000000003022cea?xsec_token=AB_mcaYQiXePqNy-2tA1TIFu5zIVxHmDguiAiquIw9Mws=: True, msg: success\n"
     ]
    },
    {
     "name": "stderr",
     "output_type": "stream",
     "text": [
      "INFO:__main__:Retrieving note info - https://www.xiaohongshu.com/explore/65f92a4700000000130272ab?xsec_token=ABCrtO3Wza0GolLh49-wJEbyee88I5Z0Bf6YNvm-GVbrU=: True, msg: success\n"
     ]
    },
    {
     "name": "stderr",
     "output_type": "stream",
     "text": [
      "INFO:__main__:Retrieving note info - https://www.xiaohongshu.com/explore/67e5459f000000001a006a57?xsec_token=ABcR8t4NFnZO1SZkol_Tn7JSmogP4j6kZyjP4shuZRiQ8=: True, msg: success\n"
     ]
    },
    {
     "name": "stderr",
     "output_type": "stream",
     "text": [
      "INFO:__main__:Retrieving note info - https://www.xiaohongshu.com/explore/676eaf7c000000000900db0a?xsec_token=AB1xeqRx7sa3rciGsTzphdqOqhIghEcNZr0awhhmgsK74=: True, msg: success\n"
     ]
    },
    {
     "name": "stderr",
     "output_type": "stream",
     "text": [
      "INFO:__main__:Retrieving note info - https://www.xiaohongshu.com/explore/67e29d0a000000000703645e?xsec_token=ABYNAWS8-LhXoQg-u2p4NdyrLbSRH0LwSGeDt0kL2m2kg=: True, msg: success\n"
     ]
    },
    {
     "name": "stderr",
     "output_type": "stream",
     "text": [
      "INFO:__main__:Retrieving note info - https://www.xiaohongshu.com/explore/67b59d2800000000060399f4?xsec_token=ABm-vYGc-CIFwha5novRSrv5yBL2Gi0ldBocplMQmhAH8=: True, msg: success\n"
     ]
    },
    {
     "name": "stderr",
     "output_type": "stream",
     "text": [
      "INFO:__main__:Retrieving note info - https://www.xiaohongshu.com/explore/67f7c53e000000001b024e91?xsec_token=ABhAziZsZNNX2BLk5l3NKxluiyu_HGfEjqcZ-SJwd6YFY=: True, msg: success\n"
     ]
    },
    {
     "name": "stderr",
     "output_type": "stream",
     "text": [
      "INFO:__main__:Retrieving note info - https://www.xiaohongshu.com/explore/67cd24a4000000002901c507?xsec_token=ABnsskJft9fbETJx44dvhIpHqfp61tw4cjP6rVHEX1F8Q=: True, msg: success\n"
     ]
    },
    {
     "name": "stderr",
     "output_type": "stream",
     "text": [
      "INFO:__main__:Retrieving note info - https://www.xiaohongshu.com/explore/67ffc2ff000000001b03f7d1?xsec_token=ABmh7MgiSisRspjkcjusf5lX-gnDwLKagxO3_5dj4z6XA=: True, msg: success\n"
     ]
    },
    {
     "name": "stderr",
     "output_type": "stream",
     "text": [
      "INFO:__main__:Retrieving note info - https://www.xiaohongshu.com/explore/65fc0a27000000001203d8b4?xsec_token=ABkazOZrG-lny4u85dD5Rpf1_CwcR649ZmGSdu3jxhQlk=: True, msg: success\n"
     ]
    },
    {
     "name": "stderr",
     "output_type": "stream",
     "text": [
      "INFO:__main__:Retrieving note info - https://www.xiaohongshu.com/explore/675e7f11000000000103eab8?xsec_token=AB1-_hbUenX4UgAl1ZPVaNoIlr2qT0WNeBECVLZtf10UA=: True, msg: success\n"
     ]
    },
    {
     "name": "stderr",
     "output_type": "stream",
     "text": [
      "INFO:__main__:Retrieving note info - https://www.xiaohongshu.com/explore/6792f6b5000000002902b61f?xsec_token=ABZ-kRxiU85UbQp8xZMBh8fgHfVM0Awm2aEVWth1OeyBw=: True, msg: success\n"
     ]
    },
    {
     "name": "stderr",
     "output_type": "stream",
     "text": [
      "INFO:__main__:Retrieving note info - https://www.xiaohongshu.com/explore/66a48a5d00000000050311de?xsec_token=ABONP1LGnqKYeJ3I4WkCtCWowhYl52UVNB4z8ZGD_7AQI=: True, msg: success\n"
     ]
    },
    {
     "name": "stderr",
     "output_type": "stream",
     "text": [
      "INFO:__main__:Retrieving note info - https://www.xiaohongshu.com/explore/67e74147000000001b03e984?xsec_token=ABJucXYAX-nkZDSFOlc4sOO-ComGMLK1w47-z0c63n_ho=: True, msg: success\n"
     ]
    },
    {
     "name": "stderr",
     "output_type": "stream",
     "text": [
      "INFO:__main__:Retrieving note info - https://www.xiaohongshu.com/explore/676edff7000000001300e9b7?xsec_token=AB1xeqRx7sa3rciGsTzphdqCMOUl4zO0zGzzE7XET3FJw=: True, msg: success\n"
     ]
    },
    {
     "name": "stderr",
     "output_type": "stream",
     "text": [
      "INFO:__main__:Retrieving note info - https://www.xiaohongshu.com/explore/67d040bf000000002503e3d0?xsec_token=AByzvkOTfvVKMrQMwC0RWYPuECoqC89sxRkqvjjszDHnI=: True, msg: success\n"
     ]
    },
    {
     "name": "stderr",
     "output_type": "stream",
     "text": [
      "INFO:__main__:Retrieving note info - https://www.xiaohongshu.com/explore/67e7fbd5000000001c008204?xsec_token=ABJucXYAX-nkZDSFOlc4sOOz_oVsP9Q9iOJ83rKHTt7Qg=: True, msg: success\n"
     ]
    },
    {
     "name": "stderr",
     "output_type": "stream",
     "text": [
      "INFO:__main__:Retrieving note info - https://www.xiaohongshu.com/explore/65fc0a27000000001203d8b4?xsec_token=ABkazOZrG-lny4u85dD5Rpf1_CwcR649ZmGSdu3jxhQlk=: True, msg: success\n"
     ]
    },
    {
     "name": "stderr",
     "output_type": "stream",
     "text": [
      "INFO:__main__:Retrieving note info - https://www.xiaohongshu.com/explore/67322640000000001d03acc9?xsec_token=ABFdBBQhX6cuOO4V6iVJ3PIo_pU1O4bKe9EPnCuJYQ4BE=: True, msg: success\n"
     ]
    },
    {
     "name": "stderr",
     "output_type": "stream",
     "text": [
      "INFO:__main__:Retrieving note info - https://www.xiaohongshu.com/explore/67637532000000000800ece0?xsec_token=ABC7eOZpOO9qx77KsWUNtt7VpeVPWFGKuprSv2JvhEwgI=: True, msg: success\n"
     ]
    },
    {
     "name": "stderr",
     "output_type": "stream",
     "text": [
      "INFO:__main__:Retrieving note info - https://www.xiaohongshu.com/explore/67c02161000000001203d0fc?xsec_token=AB4_dtV1ZQ-iV9fSZ9yI9BHJXUbMW-YRtkilQQM7kctms=: True, msg: success\n"
     ]
    },
    {
     "name": "stderr",
     "output_type": "stream",
     "text": [
      "INFO:__main__:Retrieving note info - https://www.xiaohongshu.com/explore/67f7a3e9000000001c010ba1?xsec_token=ABhAziZsZNNX2BLk5l3NKxlkKsmavRsq1xBMUidshK3X4=: True, msg: success\n"
     ]
    },
    {
     "name": "stderr",
     "output_type": "stream",
     "text": [
      "INFO:__main__:Retrieving note info - https://www.xiaohongshu.com/explore/675d22de000000000700a618?xsec_token=ABcIvLn5yxnQAHZ2d0e8eLSURUGYHeNsKetOCz3aEsICk=: True, msg: success\n"
     ]
    },
    {
     "name": "stderr",
     "output_type": "stream",
     "text": [
      "INFO:__main__:Retrieving note info - https://www.xiaohongshu.com/explore/673eee3a000000000202ac34?xsec_token=ABcCeMFwJZCXrgMjOVesziHLDh99O7Zq0L9kqjw-DGPaw=: True, msg: success\n"
     ]
    },
    {
     "name": "stderr",
     "output_type": "stream",
     "text": [
      "INFO:__main__:Retrieving note info - https://www.xiaohongshu.com/explore/67f8ec5e000000001a006fe1?xsec_token=ABY34JY8AGCTOobMoBNuAzxY-XTWLOHgmdL7QelNqIpxw=: True, msg: success\n"
     ]
    },
    {
     "name": "stderr",
     "output_type": "stream",
     "text": [
      "INFO:__main__:Retrieving note info - https://www.xiaohongshu.com/explore/67e62ef7000000001202daf0?xsec_token=ABDeosgIOQxr2l6eoZ5Gjmx0S6EalH4iTP5UPHcF--U2g=: True, msg: success\n"
     ]
    },
    {
     "name": "stderr",
     "output_type": "stream",
     "text": [
      "INFO:__main__:Retrieving note info - https://www.xiaohongshu.com/explore/6781e20e0000000017038ff5?xsec_token=ABeCQOIir9rjMRbIKYjfVc8hWFOTpg2Xjg1UUg_oE9gfY=: True, msg: success\n"
     ]
    },
    {
     "name": "stderr",
     "output_type": "stream",
     "text": [
      "INFO:__main__:Retrieving note info - https://www.xiaohongshu.com/explore/67e6e31b00000000090174f2?xsec_token=ABDeosgIOQxr2l6eoZ5Gjmxy3DIIl8krpyLShOzhxO8Xo=: True, msg: success\n"
     ]
    },
    {
     "name": "stderr",
     "output_type": "stream",
     "text": [
      "INFO:__main__:Retrieving note info - https://www.xiaohongshu.com/explore/67b5ba1e000000002902c3ce?xsec_token=ABm-vYGc-CIFwha5novRSrv1ppQxntrYAbalc7RS_9eh8=: True, msg: success\n"
     ]
    },
    {
     "name": "stderr",
     "output_type": "stream",
     "text": [
      "INFO:__main__:Retrieving note info - https://www.xiaohongshu.com/explore/647b173a0000000027002d5b?xsec_token=ABFOYzAPQt9ufkz2CHe1_t56c0IB13dKNZ1iHEBzAz3RM=: True, msg: success\n"
     ]
    },
    {
     "name": "stderr",
     "output_type": "stream",
     "text": [
      "INFO:__main__:Retrieving note info - https://www.xiaohongshu.com/explore/67e569680000000003028dec?xsec_token=ABcR8t4NFnZO1SZkol_Tn7JVu5qhBJlOkLVppxOI9LYGo=: True, msg: success\n"
     ]
    },
    {
     "name": "stderr",
     "output_type": "stream",
     "text": [
      "INFO:__main__:Retrieving note info - https://www.xiaohongshu.com/explore/6758ba05000000000603b0c3?xsec_token=AB8Xhc0htt6WucT9zzH1lACF_LmG-i9bvGVbm6gkJVz24=: True, msg: success\n"
     ]
    },
    {
     "name": "stderr",
     "output_type": "stream",
     "text": [
      "INFO:__main__:Retrieving note info - https://www.xiaohongshu.com/explore/67ea713e000000001c033f49?xsec_token=ABEdi_X7qLmMmlHb5MFI374luC0c7j5gBbopa5l8CLDfU=: True, msg: success\n"
     ]
    },
    {
     "name": "stderr",
     "output_type": "stream",
     "text": [
      "INFO:__main__:Retrieving note info - https://www.xiaohongshu.com/explore/67f6387e000000001c02acc9?xsec_token=ABvsYgg5hM9SAdtOhuWT1AzxVrP5hfP7fPTcxJ0bLpMG8=: True, msg: success\n"
     ]
    },
    {
     "name": "stderr",
     "output_type": "stream",
     "text": [
      "INFO:__main__:Retrieving note info - https://www.xiaohongshu.com/explore/65f92a4700000000130272ab?xsec_token=ABCrtO3Wza0GolLh49-wJEbyee88I5Z0Bf6YNvm-GVbrU=: True, msg: success\n"
     ]
    },
    {
     "name": "stderr",
     "output_type": "stream",
     "text": [
      "INFO:__main__:Retrieving note info - https://www.xiaohongshu.com/explore/67b89a76000000002900d393?xsec_token=ABKhf6lumGjYdVUojtESOITK39uEarkHACXAGJ2SMTsOA=: True, msg: success\n"
     ]
    },
    {
     "name": "stderr",
     "output_type": "stream",
     "text": [
      "INFO:__main__:Retrieving note info - https://www.xiaohongshu.com/explore/67b80c18000000002900d28e?xsec_token=ABKhf6lumGjYdVUojtESOITGE6oksy6kAk1V2PDKCnQ4w=: True, msg: success\n"
     ]
    },
    {
     "name": "stderr",
     "output_type": "stream",
     "text": [
      "INFO:__main__:Retrieving note info - https://www.xiaohongshu.com/explore/67fdc6e3000000001b02539d?xsec_token=AB2o0Xpgn_IBJhESWcELYTJQB7kRNV-Kz5YwdsiT1ZSZI=: True, msg: success\n"
     ]
    },
    {
     "name": "stderr",
     "output_type": "stream",
     "text": [
      "INFO:__main__:Searching keyword \"ifastgb\", note: True, msg: success\n"
     ]
    },
    {
     "name": "stderr",
     "output_type": "stream",
     "text": [
      "INFO:__main__:Searching keyword \"ifastdebitcard\", note count: 7\n"
     ]
    },
    {
     "name": "stderr",
     "output_type": "stream",
     "text": [
      "INFO:__main__:Retrieving note info - https://www.xiaohongshu.com/explore/67e57368000000000302b4fc?xsec_token=ABcR8t4NFnZO1SZkol_Tn7JUyWPDEc8t-FUjpLZQ88Pfk=: True, msg: success\n"
     ]
    },
    {
     "name": "stderr",
     "output_type": "stream",
     "text": [
      "INFO:__main__:Retrieving note info - https://www.xiaohongshu.com/explore/67e62ef7000000001202daf0?xsec_token=ABDeosgIOQxr2l6eoZ5Gjmx0S6EalH4iTP5UPHcF--U2g=: True, msg: success\n"
     ]
    },
    {
     "name": "stderr",
     "output_type": "stream",
     "text": [
      "INFO:__main__:Retrieving note info - https://www.xiaohongshu.com/explore/67c6cd330000000006028663?xsec_token=AB3UySNagCOxf0fCEFxO42ckMNiwY6wBTh52VvWkQphXI=: True, msg: success\n"
     ]
    },
    {
     "name": "stderr",
     "output_type": "stream",
     "text": [
      "INFO:__main__:Retrieving note info - https://www.xiaohongshu.com/explore/67e65732000000000903b17d?xsec_token=ABDeosgIOQxr2l6eoZ5GjmxzdqGDgkqmCSHRgUo281xNc=: True, msg: success\n"
     ]
    },
    {
     "name": "stderr",
     "output_type": "stream",
     "text": [
      "INFO:__main__:Retrieving note info - https://www.xiaohongshu.com/explore/67e708de000000001201d314?xsec_token=ABJucXYAX-nkZDSFOlc4sOO8DsaGdbQbwm2QrR2ZRiSvg=: True, msg: success\n"
     ]
    },
    {
     "name": "stderr",
     "output_type": "stream",
     "text": [
      "INFO:__main__:Retrieving note info - https://www.xiaohongshu.com/explore/67e2a932000000001d02d5a0?xsec_token=ABYNAWS8-LhXoQg-u2p4NdykYpV6-67GElIyWS4gT8wd4=: True, msg: success\n"
     ]
    },
    {
     "name": "stderr",
     "output_type": "stream",
     "text": [
      "INFO:__main__:Retrieving note info - https://www.xiaohongshu.com/explore/6797a8ea0000000018008cd8?xsec_token=AB8IzYGgdZugRmJHHn7BDbUlE2qcK7Cnjxm4ekyQZ8z8Y=: True, msg: success\n"
     ]
    },
    {
     "name": "stderr",
     "output_type": "stream",
     "text": [
      "INFO:__main__:Searching keyword \"ifastdebitcard\", note: True, msg: success\n"
     ]
    },
    {
     "name": "stderr",
     "output_type": "stream",
     "text": [
      "INFO:__main__:Searching keyword \"ifast银行\", note count: 46\n"
     ]
    },
    {
     "name": "stderr",
     "output_type": "stream",
     "text": [
      "INFO:__main__:Retrieving note info - https://www.xiaohongshu.com/explore/67e30ae1000000000903b3b7?xsec_token=AByW9BehrPNJBaQv0bCxCvBx4qoFS01KTmKhgHSRnrdCs=: True, msg: success\n"
     ]
    },
    {
     "name": "stderr",
     "output_type": "stream",
     "text": [
      "INFO:__main__:Retrieving note info - https://www.xiaohongshu.com/explore/680a2eae000000000b02fc17?xsec_token=ABPcwOmvei8nvj-s5tS-rFnt5CK4vIviBVYGwLFi9YbMk=: True, msg: success\n"
     ]
    },
    {
     "name": "stderr",
     "output_type": "stream",
     "text": [
      "INFO:__main__:Retrieving note info - https://www.xiaohongshu.com/explore/680b5522000000001c007ebf?xsec_token=ABREVzzv7hWHwZd9s5DtNwngTgqU43u30NY-vTfr1NyzI=: True, msg: success\n"
     ]
    },
    {
     "name": "stderr",
     "output_type": "stream",
     "text": [
      "INFO:__main__:Retrieving note info - https://www.xiaohongshu.com/explore/67b55e92000000002a00d220?xsec_token=ABm-vYGc-CIFwha5novRSrv4G024vESJ57KM6XyMb1ZHM=: True, msg: success\n"
     ]
    },
    {
     "name": "stderr",
     "output_type": "stream",
     "text": [
      "INFO:__main__:Retrieving note info - https://www.xiaohongshu.com/explore/67e611ef000000000903956b?xsec_token=ABDeosgIOQxr2l6eoZ5Gjmx57X8PHIzac2o8ViqWWSAr4=: True, msg: success\n"
     ]
    },
    {
     "name": "stderr",
     "output_type": "stream",
     "text": [
      "INFO:__main__:Retrieving note info - https://www.xiaohongshu.com/explore/6628285d0000000003022cea?xsec_token=AB_mcaYQiXePqNy-2tA1TIFu5zIVxHmDguiAiquIw9Mws=: True, msg: success\n"
     ]
    },
    {
     "name": "stderr",
     "output_type": "stream",
     "text": [
      "INFO:__main__:Retrieving note info - https://www.xiaohongshu.com/explore/67ea713e000000001c033f49?xsec_token=ABEdi_X7qLmMmlHb5MFI374luC0c7j5gBbopa5l8CLDfU=: True, msg: success\n"
     ]
    },
    {
     "name": "stderr",
     "output_type": "stream",
     "text": [
      "INFO:__main__:Retrieving note info - https://www.xiaohongshu.com/explore/67e6e31b00000000090174f2?xsec_token=ABDeosgIOQxr2l6eoZ5Gjmxy3DIIl8krpyLShOzhxO8Xo=: True, msg: success\n"
     ]
    },
    {
     "name": "stderr",
     "output_type": "stream",
     "text": [
      "INFO:__main__:Retrieving note info - https://www.xiaohongshu.com/explore/67d172fe0000000029037f0e?xsec_token=ABiEwE9P8fH25gP3rjBRoWwk_m0Ih2bt1p9ofdrxtIm5E=: True, msg: success\n"
     ]
    },
    {
     "name": "stderr",
     "output_type": "stream",
     "text": [
      "INFO:__main__:Retrieving note info - https://www.xiaohongshu.com/explore/67e29d0a000000000703645e?xsec_token=ABYNAWS8-LhXoQg-u2p4NdyrLbSRH0LwSGeDt0kL2m2kg=: True, msg: success\n"
     ]
    },
    {
     "name": "stderr",
     "output_type": "stream",
     "text": [
      "INFO:__main__:Retrieving note info - https://www.xiaohongshu.com/explore/67d04798000000002903fd04?xsec_token=AByzvkOTfvVKMrQMwC0RWYPgYLyZH-O1eZeojcB8X68GA=: True, msg: success\n"
     ]
    },
    {
     "name": "stderr",
     "output_type": "stream",
     "text": [
      "INFO:__main__:Retrieving note info - https://www.xiaohongshu.com/explore/6805ba3c000000001202ce59?xsec_token=ABz3lVsF-tYJFdX4ZD3tbLxIdXHoClgageoXeMCWc24fQ=: True, msg: success\n"
     ]
    },
    {
     "name": "stderr",
     "output_type": "stream",
     "text": [
      "INFO:__main__:Retrieving note info - https://www.xiaohongshu.com/explore/680b49eb000000001e004e99?xsec_token=ABREVzzv7hWHwZd9s5DtNwnqunA1jGvbRuh5SjwMmizWs=: True, msg: success\n"
     ]
    },
    {
     "name": "stderr",
     "output_type": "stream",
     "text": [
      "INFO:__main__:Retrieving note info - https://www.xiaohongshu.com/explore/67f7c53e000000001b024e91?xsec_token=ABhAziZsZNNX2BLk5l3NKxluiyu_HGfEjqcZ-SJwd6YFY=: True, msg: success\n"
     ]
    },
    {
     "name": "stderr",
     "output_type": "stream",
     "text": [
      "INFO:__main__:Retrieving note info - https://www.xiaohongshu.com/explore/67e57368000000000302b4fc?xsec_token=ABcR8t4NFnZO1SZkol_Tn7JUyWPDEc8t-FUjpLZQ88Pfk=: True, msg: success\n"
     ]
    },
    {
     "name": "stderr",
     "output_type": "stream",
     "text": [
      "INFO:__main__:Retrieving note info - https://www.xiaohongshu.com/explore/6803ab03000000001c02b434?xsec_token=ABkkYmSceBEKJ4ecOVdXqrdyxhuNklXWYoigKCqffYZXU=: True, msg: success\n"
     ]
    },
    {
     "name": "stderr",
     "output_type": "stream",
     "text": [
      "INFO:__main__:Retrieving note info - https://www.xiaohongshu.com/explore/65fc0a27000000001203d8b4?xsec_token=ABkazOZrG-lny4u85dD5Rpf1_CwcR649ZmGSdu3jxhQlk=: True, msg: success\n"
     ]
    },
    {
     "name": "stderr",
     "output_type": "stream",
     "text": [
      "INFO:__main__:Retrieving note info - https://www.xiaohongshu.com/explore/680e20bc000000002100dab9?xsec_token=AB13geBZi1vcSoICR1A-6ulugP18Kh4v7M_GNVjn278AQ=: True, msg: success\n"
     ]
    },
    {
     "name": "stderr",
     "output_type": "stream",
     "text": [
      "INFO:__main__:Retrieving note info - https://www.xiaohongshu.com/explore/6781e20e0000000017038ff5?xsec_token=ABeCQOIir9rjMRbIKYjfVc8hWFOTpg2Xjg1UUg_oE9gfY=: True, msg: success\n"
     ]
    },
    {
     "name": "stderr",
     "output_type": "stream",
     "text": [
      "INFO:__main__:Retrieving note info - https://www.xiaohongshu.com/explore/67e5c2b6000000001c006368?xsec_token=ABcR8t4NFnZO1SZkol_Tn7JbXe-xvmcl2aQ_lXI4MiurM=: True, msg: success\n"
     ]
    },
    {
     "name": "stderr",
     "output_type": "stream",
     "text": [
      "INFO:__main__:Retrieving note info - https://www.xiaohongshu.com/explore/67e5c2b6000000001c006368?xsec_token=ABcR8t4NFnZO1SZkol_Tn7JbXe-xvmcl2aQ_lXI4MiurM=: True, msg: success\n"
     ]
    },
    {
     "name": "stderr",
     "output_type": "stream",
     "text": [
      "INFO:__main__:Retrieving note info - https://www.xiaohongshu.com/explore/680e20bc000000002100dab9?xsec_token=AB13geBZi1vcSoICR1A-6ulugP18Kh4v7M_GNVjn278AQ=: True, msg: success\n"
     ]
    },
    {
     "name": "stderr",
     "output_type": "stream",
     "text": [
      "INFO:__main__:Retrieving note info - https://www.xiaohongshu.com/explore/67fe66e9000000001d0161d4?xsec_token=ABDppAK6njm6-Tbd3yP0Gt1gRooWPfNnI19JJdM51zsz4=: True, msg: success\n"
     ]
    },
    {
     "name": "stderr",
     "output_type": "stream",
     "text": [
      "INFO:__main__:Retrieving note info - https://www.xiaohongshu.com/explore/6772cecf000000000b01564f?xsec_token=ABjErhMFEE1ZEVvvMZxbB6ZHw7RJktyUt0p_5xeCYW9Qw=: True, msg: success\n"
     ]
    },
    {
     "name": "stderr",
     "output_type": "stream",
     "text": [
      "INFO:__main__:Retrieving note info - https://www.xiaohongshu.com/explore/65fc0a27000000001203d8b4?xsec_token=ABkazOZrG-lny4u85dD5Rpf1_CwcR649ZmGSdu3jxhQlk=: True, msg: success\n"
     ]
    },
    {
     "name": "stderr",
     "output_type": "stream",
     "text": [
      "INFO:__main__:Retrieving note info - https://www.xiaohongshu.com/explore/665b12490000000005004972?xsec_token=ABc2hHJ8jqa9Euyg2ofLnOh8mpPSt-RTDrvtCq9egGjV4=: True, msg: success\n"
     ]
    },
    {
     "name": "stderr",
     "output_type": "stream",
     "text": [
      "INFO:__main__:Retrieving note info - https://www.xiaohongshu.com/explore/67bee97500000000290290c4?xsec_token=AB6xreGnlQzkhL1un7RZG9B54z04_V1Zt9XTPZG8uNyak=: True, msg: success\n"
     ]
    },
    {
     "name": "stderr",
     "output_type": "stream",
     "text": [
      "INFO:__main__:Retrieving note info - https://www.xiaohongshu.com/explore/67beb4d6000000001201cba4?xsec_token=AB6xreGnlQzkhL1un7RZG9B-Ba6vvPYR1pcVzJjqD2Rxs=: True, msg: success\n"
     ]
    },
    {
     "name": "stderr",
     "output_type": "stream",
     "text": [
      "INFO:__main__:Retrieving note info - https://www.xiaohongshu.com/explore/6802a00d000000001d001f16?xsec_token=ABro5kg1U2BHC0oFd-TTY33lQcxkylXw0cEM0EA-_AiXE=: True, msg: success\n"
     ]
    },
    {
     "name": "stderr",
     "output_type": "stream",
     "text": [
      "INFO:__main__:Retrieving note info - https://www.xiaohongshu.com/explore/67d040bf000000002503e3d0?xsec_token=AByzvkOTfvVKMrQMwC0RWYPuECoqC89sxRkqvjjszDHnI=: True, msg: success\n"
     ]
    },
    {
     "name": "stderr",
     "output_type": "stream",
     "text": [
      "INFO:__main__:Retrieving note info - https://www.xiaohongshu.com/explore/67ffc2ff000000001b03f7d1?xsec_token=ABmh7MgiSisRspjkcjusf5lX-gnDwLKagxO3_5dj4z6XA=: True, msg: success\n"
     ]
    },
    {
     "name": "stderr",
     "output_type": "stream",
     "text": [
      "INFO:__main__:Retrieving note info - https://www.xiaohongshu.com/explore/66fbc6bc000000001902d029?xsec_token=ABpuFMaSPh-IdpsyMMMLdwbNlnG59VMRAbWpO3IchRVQA=: True, msg: success\n"
     ]
    },
    {
     "name": "stderr",
     "output_type": "stream",
     "text": [
      "INFO:__main__:Retrieving note info - https://www.xiaohongshu.com/explore/67e5459f000000001a006a57?xsec_token=ABcR8t4NFnZO1SZkol_Tn7JSmogP4j6kZyjP4shuZRiQ8=: True, msg: success\n"
     ]
    },
    {
     "name": "stderr",
     "output_type": "stream",
     "text": [
      "INFO:__main__:Retrieving note info - https://www.xiaohongshu.com/explore/67b859e10000000028035196?xsec_token=ABKhf6lumGjYdVUojtESOITPnIX9SwfNMVIlHm60RQmO0=: True, msg: success\n"
     ]
    },
    {
     "name": "stderr",
     "output_type": "stream",
     "text": [
      "INFO:__main__:Retrieving note info - https://www.xiaohongshu.com/explore/67fb426300000000090147c6?xsec_token=ABMNerqNLLFimsQH2Ew86wmnRz1CW4zrRJDzKqXF4qtLs=: True, msg: success\n"
     ]
    },
    {
     "name": "stderr",
     "output_type": "stream",
     "text": [
      "INFO:__main__:Retrieving note info - https://www.xiaohongshu.com/explore/67f73ad3000000001d014122?xsec_token=ABhAziZsZNNX2BLk5l3NKxloDnD96O1pFxERvw1TU0oZo=: True, msg: success\n"
     ]
    },
    {
     "name": "stderr",
     "output_type": "stream",
     "text": [
      "INFO:__main__:Retrieving note info - https://www.xiaohongshu.com/explore/6790cf31000000001902ea58?xsec_token=ABOHcxmyFg17KMbs8-NPJaFbs3pzR_9_Ipz0bYUfEAXbA=: True, msg: success\n"
     ]
    },
    {
     "name": "stderr",
     "output_type": "stream",
     "text": [
      "INFO:__main__:Retrieving note info - https://www.xiaohongshu.com/explore/659fe20b000000000f011538?xsec_token=ABFPMMS3DZM_u2w8BF2eQtCc7udPNquc7DItWkBRE-DaQ=: True, msg: success\n"
     ]
    },
    {
     "name": "stderr",
     "output_type": "stream",
     "text": [
      "INFO:__main__:Retrieving note info - https://www.xiaohongshu.com/explore/6801bd56000000001c00a050?xsec_token=AB_-H8GpGw45uImlqPiyY3X_FNXGBIZlsRLpdcZWDtgPs=: True, msg: success\n"
     ]
    },
    {
     "name": "stderr",
     "output_type": "stream",
     "text": [
      "INFO:__main__:Retrieving note info - https://www.xiaohongshu.com/explore/66d95dff000000001e01b4ff?xsec_token=ABp050CVcndNDOaihtUD2UkqT_MkNcFyoHTM3-SqsFs5U=: True, msg: success\n"
     ]
    },
    {
     "name": "stderr",
     "output_type": "stream",
     "text": [
      "INFO:__main__:Retrieving note info - https://www.xiaohongshu.com/explore/67e5459f000000001a006a57?xsec_token=ABcR8t4NFnZO1SZkol_Tn7JSmogP4j6kZyjP4shuZRiQ8=: True, msg: success\n"
     ]
    },
    {
     "name": "stderr",
     "output_type": "stream",
     "text": [
      "INFO:__main__:Retrieving note info - https://www.xiaohongshu.com/explore/67886d03000000001b00aff2?xsec_token=ABi10dVJjcCWCATw-rgagv2ZkGt5kkj5-21TTtaV_1yl4=: True, msg: success\n"
     ]
    },
    {
     "name": "stderr",
     "output_type": "stream",
     "text": [
      "INFO:__main__:Retrieving note info - https://www.xiaohongshu.com/explore/68006e1d000000001202d3cf?xsec_token=ABqWjtKdYdkhuiZd-8VqY6KPDpLsVGD-t7pFXMJziGG6E=: True, msg: success\n"
     ]
    },
    {
     "name": "stderr",
     "output_type": "stream",
     "text": [
      "INFO:__main__:Retrieving note info - https://www.xiaohongshu.com/explore/67e7f51b000000001d022632?xsec_token=ABJucXYAX-nkZDSFOlc4sOOz11oDIh78SCStcBITcA3uc=: True, msg: success\n"
     ]
    },
    {
     "name": "stderr",
     "output_type": "stream",
     "text": [
      "INFO:__main__:Retrieving note info - https://www.xiaohongshu.com/explore/67e2af27000000001b03ad37?xsec_token=ABYNAWS8-LhXoQg-u2p4Ndyn67g-Xf-hh3q44cHKY6HAM=: True, msg: success\n"
     ]
    },
    {
     "name": "stderr",
     "output_type": "stream",
     "text": [
      "INFO:__main__:Retrieving note info - https://www.xiaohongshu.com/explore/674ab848000000000202dce0?xsec_token=ABYix3hiZX9X-iF0asJPHWLScSwnFLReHxmECSasEB-DQ=: True, msg: success\n"
     ]
    },
    {
     "name": "stderr",
     "output_type": "stream",
     "text": [
      "INFO:__main__:Searching keyword \"ifast银行\", note: True, msg: success\n"
     ]
    },
    {
     "name": "stderr",
     "output_type": "stream",
     "text": [
      "INFO:__main__:Searching keyword \"ifast借记卡\", note count: 46\n"
     ]
    },
    {
     "name": "stderr",
     "output_type": "stream",
     "text": [
      "INFO:__main__:Retrieving note info - https://www.xiaohongshu.com/explore/67e611ef000000000903956b?xsec_token=ABDeosgIOQxr2l6eoZ5Gjmx57X8PHIzac2o8ViqWWSAr4=: True, msg: success\n"
     ]
    },
    {
     "name": "stderr",
     "output_type": "stream",
     "text": [
      "INFO:__main__:Retrieving note info - https://www.xiaohongshu.com/explore/67e29d0a000000000703645e?xsec_token=ABYNAWS8-LhXoQg-u2p4NdyrLbSRH0LwSGeDt0kL2m2kg=: True, msg: success\n"
     ]
    },
    {
     "name": "stderr",
     "output_type": "stream",
     "text": [
      "INFO:__main__:Retrieving note info - https://www.xiaohongshu.com/explore/67f89ec5000000000b01e38e?xsec_token=ABY34JY8AGCTOobMoBNuAzxb85qp4jX0he_8jXDtgYzYY=: True, msg: success\n"
     ]
    },
    {
     "name": "stderr",
     "output_type": "stream",
     "text": [
      "INFO:__main__:Retrieving note info - https://www.xiaohongshu.com/explore/680a2eae000000000b02fc17?xsec_token=ABPcwOmvei8nvj-s5tS-rFnt5CK4vIviBVYGwLFi9YbMk=: True, msg: success\n"
     ]
    },
    {
     "name": "stderr",
     "output_type": "stream",
     "text": [
      "INFO:__main__:Retrieving note info - https://www.xiaohongshu.com/explore/67c6cd330000000006028663?xsec_token=AB3UySNagCOxf0fCEFxO42ckMNiwY6wBTh52VvWkQphXI=: True, msg: success\n"
     ]
    },
    {
     "name": "stderr",
     "output_type": "stream",
     "text": [
      "INFO:__main__:Retrieving note info - https://www.xiaohongshu.com/explore/67e57368000000000302b4fc?xsec_token=ABcR8t4NFnZO1SZkol_Tn7JUyWPDEc8t-FUjpLZQ88Pfk=: True, msg: success\n"
     ]
    },
    {
     "name": "stderr",
     "output_type": "stream",
     "text": [
      "INFO:__main__:Retrieving note info - https://www.xiaohongshu.com/explore/67fb426300000000090147c6?xsec_token=ABMNerqNLLFimsQH2Ew86wmnRz1CW4zrRJDzKqXF4qtLs=: True, msg: success\n"
     ]
    },
    {
     "name": "stderr",
     "output_type": "stream",
     "text": [
      "INFO:__main__:Retrieving note info - https://www.xiaohongshu.com/explore/67e708de000000001201d314?xsec_token=ABJucXYAX-nkZDSFOlc4sOO8DsaGdbQbwm2QrR2ZRiSvg=: True, msg: success\n"
     ]
    },
    {
     "name": "stderr",
     "output_type": "stream",
     "text": [
      "INFO:__main__:Retrieving note info - https://www.xiaohongshu.com/explore/67b55e92000000002a00d220?xsec_token=ABm-vYGc-CIFwha5novRSrv4G024vESJ57KM6XyMb1ZHM=: True, msg: success\n"
     ]
    },
    {
     "name": "stderr",
     "output_type": "stream",
     "text": [
      "INFO:__main__:Retrieving note info - https://www.xiaohongshu.com/explore/680b5522000000001c007ebf?xsec_token=ABREVzzv7hWHwZd9s5DtNwngTgqU43u30NY-vTfr1NyzI=: True, msg: success\n"
     ]
    },
    {
     "name": "stderr",
     "output_type": "stream",
     "text": [
      "INFO:__main__:Retrieving note info - https://www.xiaohongshu.com/explore/67fe66e9000000001d0161d4?xsec_token=ABDppAK6njm6-Tbd3yP0Gt1gRooWPfNnI19JJdM51zsz4=: True, msg: success\n"
     ]
    },
    {
     "name": "stderr",
     "output_type": "stream",
     "text": [
      "INFO:__main__:Retrieving note info - https://www.xiaohongshu.com/explore/67e5c2b6000000001c006368?xsec_token=ABcR8t4NFnZO1SZkol_Tn7JbXe-xvmcl2aQ_lXI4MiurM=: True, msg: success\n"
     ]
    },
    {
     "name": "stderr",
     "output_type": "stream",
     "text": [
      "INFO:__main__:Retrieving note info - https://www.xiaohongshu.com/explore/67bee97500000000290290c4?xsec_token=AB6xreGnlQzkhL1un7RZG9B54z04_V1Zt9XTPZG8uNyak=: True, msg: success\n"
     ]
    },
    {
     "name": "stderr",
     "output_type": "stream",
     "text": [
      "INFO:__main__:Retrieving note info - https://www.xiaohongshu.com/explore/67f7c53e000000001b024e91?xsec_token=ABhAziZsZNNX2BLk5l3NKxluiyu_HGfEjqcZ-SJwd6YFY=: True, msg: success\n"
     ]
    },
    {
     "name": "stderr",
     "output_type": "stream",
     "text": [
      "INFO:__main__:Retrieving note info - https://www.xiaohongshu.com/explore/6628285d0000000003022cea?xsec_token=AB_mcaYQiXePqNy-2tA1TIFu5zIVxHmDguiAiquIw9Mws=: True, msg: success\n"
     ]
    },
    {
     "name": "stderr",
     "output_type": "stream",
     "text": [
      "INFO:__main__:Retrieving note info - https://www.xiaohongshu.com/explore/67e62ef7000000001202daf0?xsec_token=ABDeosgIOQxr2l6eoZ5Gjmx0S6EalH4iTP5UPHcF--U2g=: True, msg: success\n"
     ]
    },
    {
     "name": "stderr",
     "output_type": "stream",
     "text": [
      "INFO:__main__:Retrieving note info - https://www.xiaohongshu.com/explore/67e30ae1000000000903b3b7?xsec_token=AByW9BehrPNJBaQv0bCxCvBx4qoFS01KTmKhgHSRnrdCs=: True, msg: success\n"
     ]
    },
    {
     "name": "stderr",
     "output_type": "stream",
     "text": [
      "INFO:__main__:Retrieving note info - https://www.xiaohongshu.com/explore/67beb4d6000000001201cba4?xsec_token=AB6xreGnlQzkhL1un7RZG9B-Ba6vvPYR1pcVzJjqD2Rxs=: True, msg: success\n"
     ]
    },
    {
     "name": "stderr",
     "output_type": "stream",
     "text": [
      "INFO:__main__:Retrieving note info - https://www.xiaohongshu.com/explore/67f4e8c1000000001e00a167?xsec_token=ABM2fF0FDGB2C1ra8SWdyHFomBcqK7mAgBfFk1ufcFMYs=: True, msg: success\n"
     ]
    },
    {
     "name": "stderr",
     "output_type": "stream",
     "text": [
      "INFO:__main__:Retrieving note info - https://www.xiaohongshu.com/explore/67e74147000000001b03e984?xsec_token=ABJucXYAX-nkZDSFOlc4sOO-ComGMLK1w47-z0c63n_ho=: True, msg: success\n"
     ]
    },
    {
     "name": "stderr",
     "output_type": "stream",
     "text": [
      "INFO:__main__:Retrieving note info - https://www.xiaohongshu.com/explore/67e74147000000001b03e984?xsec_token=ABJucXYAX-nkZDSFOlc4sOO-ComGMLK1w47-z0c63n_ho=: True, msg: success\n"
     ]
    },
    {
     "name": "stderr",
     "output_type": "stream",
     "text": [
      "INFO:__main__:Retrieving note info - https://www.xiaohongshu.com/explore/67b063b000000000180127f6?xsec_token=ABvade9kP_jQazYN3lQytqKnKA-RtiGKs4Soi1sFDctQ8=: True, msg: success\n"
     ]
    },
    {
     "name": "stderr",
     "output_type": "stream",
     "text": [
      "INFO:__main__:Retrieving note info - https://www.xiaohongshu.com/explore/67e569680000000003028dec?xsec_token=ABcR8t4NFnZO1SZkol_Tn7JVu5qhBJlOkLVppxOI9LYGo=: True, msg: success\n"
     ]
    },
    {
     "name": "stderr",
     "output_type": "stream",
     "text": [
      "INFO:__main__:Retrieving note info - https://www.xiaohongshu.com/explore/678235b6000000000b02336b?xsec_token=ABfTx7JpIRa7hZOMS_Kl0EkVt496qe2IJeIDJWnvDz5g4=: True, msg: success\n"
     ]
    },
    {
     "name": "stderr",
     "output_type": "stream",
     "text": [
      "INFO:__main__:Retrieving note info - https://www.xiaohongshu.com/explore/67e62ef7000000001202daf0?xsec_token=ABDeosgIOQxr2l6eoZ5Gjmx0S6EalH4iTP5UPHcF--U2g=: True, msg: success\n"
     ]
    },
    {
     "name": "stderr",
     "output_type": "stream",
     "text": [
      "INFO:__main__:Retrieving note info - https://www.xiaohongshu.com/explore/67cd24a4000000002901c507?xsec_token=ABnsskJft9fbETJx44dvhIpHqfp61tw4cjP6rVHEX1F8Q=: True, msg: success\n"
     ]
    },
    {
     "name": "stderr",
     "output_type": "stream",
     "text": [
      "INFO:__main__:Retrieving note info - https://www.xiaohongshu.com/explore/67e7f51b000000001d022632?xsec_token=ABJucXYAX-nkZDSFOlc4sOOz11oDIh78SCStcBITcA3uc=: True, msg: success\n"
     ]
    },
    {
     "name": "stderr",
     "output_type": "stream",
     "text": [
      "INFO:__main__:Retrieving note info - https://www.xiaohongshu.com/explore/674ab848000000000202dce0?xsec_token=ABYix3hiZX9X-iF0asJPHWLScSwnFLReHxmECSasEB-DQ=: True, msg: success\n"
     ]
    },
    {
     "name": "stderr",
     "output_type": "stream",
     "text": [
      "INFO:__main__:Retrieving note info - https://www.xiaohongshu.com/explore/68052ecf000000001b03fe7e?xsec_token=ABz3lVsF-tYJFdX4ZD3tbLxIPu7kf2yvNOqu11nGUAqCU=: True, msg: success\n"
     ]
    },
    {
     "name": "stderr",
     "output_type": "stream",
     "text": [
      "INFO:__main__:Retrieving note info - https://www.xiaohongshu.com/explore/67e7fbd5000000001c008204?xsec_token=ABJucXYAX-nkZDSFOlc4sOOz_oVsP9Q9iOJ83rKHTt7Qg=: True, msg: success\n"
     ]
    },
    {
     "name": "stderr",
     "output_type": "stream",
     "text": [
      "INFO:__main__:Retrieving note info - https://www.xiaohongshu.com/explore/6773ae4c000000000b02350f?xsec_token=ABWv67OHtiDRoOP8kgSVK7_0uYhUbufD_NBJPM1K-bcHM=: True, msg: success\n"
     ]
    },
    {
     "name": "stderr",
     "output_type": "stream",
     "text": [
      "INFO:__main__:Retrieving note info - https://www.xiaohongshu.com/explore/6776cc6e000000000900c7ea?xsec_token=ABe3CK5IfIC0i0htoUB9WYXY9lnp7uRziZ5wM7tcWH8Is=: True, msg: success\n"
     ]
    },
    {
     "name": "stderr",
     "output_type": "stream",
     "text": [
      "INFO:__main__:Retrieving note info - https://www.xiaohongshu.com/explore/67d94c5a000000000e006ffe?xsec_token=AB2uSHe53XTU4ioiXQmDqqDfDZSLy2ZWmXVbVeAUlU58Q=: True, msg: success\n"
     ]
    },
    {
     "name": "stderr",
     "output_type": "stream",
     "text": [
      "INFO:__main__:Retrieving note info - https://www.xiaohongshu.com/explore/680d78b7000000000900d7ec?xsec_token=ABWyZfs55nBVVrzedXJCTp_zXP_7z6EJKvEKf1Sn_Feic=: True, msg: success\n"
     ]
    },
    {
     "name": "stderr",
     "output_type": "stream",
     "text": [
      "INFO:__main__:Retrieving note info - https://www.xiaohongshu.com/explore/680c8671000000001c0102c9?xsec_token=AByQMoRdcGhfBJoKvYzh_DTN-H8ZcRAWyNWRLwvV5AdpY=: True, msg: success\n"
     ]
    },
    {
     "name": "stderr",
     "output_type": "stream",
     "text": [
      "INFO:__main__:Retrieving note info - https://www.xiaohongshu.com/explore/65b125b6000000002b03d083?xsec_token=AB28e4f6gVMi0TLfcmS5MarLMIE7qxAGakXzu5relA3sI=: True, msg: success\n"
     ]
    },
    {
     "name": "stderr",
     "output_type": "stream",
     "text": [
      "INFO:__main__:Retrieving note info - https://www.xiaohongshu.com/explore/67c6e63000000000060294d5?xsec_token=AB3UySNagCOxf0fCEFxO42clh330XlVKaEje0lD55v37o=: True, msg: success\n"
     ]
    },
    {
     "name": "stderr",
     "output_type": "stream",
     "text": [
      "INFO:__main__:Retrieving note info - https://www.xiaohongshu.com/explore/67e32edc000000000602945a?xsec_token=AByW9BehrPNJBaQv0bCxCvB_iR4jNs6A0m7hnBwNduRu4=: True, msg: success\n"
     ]
    },
    {
     "name": "stderr",
     "output_type": "stream",
     "text": [
      "INFO:__main__:Retrieving note info - https://www.xiaohongshu.com/explore/67e2af27000000001b03ad37?xsec_token=ABYNAWS8-LhXoQg-u2p4Ndyn67g-Xf-hh3q44cHKY6HAM=: True, msg: success\n"
     ]
    },
    {
     "name": "stderr",
     "output_type": "stream",
     "text": [
      "INFO:__main__:Retrieving note info - https://www.xiaohongshu.com/explore/67e65732000000000903b17d?xsec_token=ABDeosgIOQxr2l6eoZ5GjmxzdqGDgkqmCSHRgUo281xNc=: True, msg: success\n"
     ]
    },
    {
     "name": "stderr",
     "output_type": "stream",
     "text": [
      "INFO:__main__:Retrieving note info - https://www.xiaohongshu.com/explore/67d94c5a000000000e006ffe?xsec_token=AB2uSHe53XTU4ioiXQmDqqDfDZSLy2ZWmXVbVeAUlU58Q=: True, msg: success\n"
     ]
    },
    {
     "name": "stderr",
     "output_type": "stream",
     "text": [
      "INFO:__main__:Retrieving note info - https://www.xiaohongshu.com/explore/67e2af27000000001b03ad37?xsec_token=ABYNAWS8-LhXoQg-u2p4Ndyn67g-Xf-hh3q44cHKY6HAM=: True, msg: success\n"
     ]
    },
    {
     "name": "stderr",
     "output_type": "stream",
     "text": [
      "INFO:__main__:Retrieving note info - https://www.xiaohongshu.com/explore/67ffc2ff000000001b03f7d1?xsec_token=ABmh7MgiSisRspjkcjusf5lX-gnDwLKagxO3_5dj4z6XA=: True, msg: success\n"
     ]
    },
    {
     "name": "stderr",
     "output_type": "stream",
     "text": [
      "INFO:__main__:Retrieving note info - https://www.xiaohongshu.com/explore/677237ee000000001301b5ef?xsec_token=ABjErhMFEE1ZEVvvMZxbB6ZEaiRZxwKGXu-srb43oVALI=: True, msg: success\n"
     ]
    },
    {
     "name": "stderr",
     "output_type": "stream",
     "text": [
      "INFO:__main__:Retrieving note info - https://www.xiaohongshu.com/explore/67ea713e000000001c033f49?xsec_token=ABEdi_X7qLmMmlHb5MFI374luC0c7j5gBbopa5l8CLDfU=: True, msg: success\n"
     ]
    },
    {
     "name": "stderr",
     "output_type": "stream",
     "text": [
      "INFO:__main__:Retrieving note info - https://www.xiaohongshu.com/explore/67411695000000000202933c?xsec_token=AB8eLCakw4OFRGLkSYyg82n0xzbM3VqVKj0Yh9RAD9Igo=: True, msg: success\n"
     ]
    },
    {
     "name": "stderr",
     "output_type": "stream",
     "text": [
      "INFO:__main__:Searching keyword \"ifast借记卡\", note: True, msg: success\n"
     ]
    },
    {
     "name": "stderr",
     "output_type": "stream",
     "text": [
      "INFO:__main__:Retrieving all comments - https://www.xiaohongshu.com/explore/67e29d0a000000000703645e?xsec_token=ABYNAWS8-LhXoQg-u2p4NdyrLbSRH0LwSGeDt0kL2m2kg=: True, msg: success\n"
     ]
    },
    {
     "name": "stderr",
     "output_type": "stream",
     "text": [
      "INFO:__main__:Retrieving all comments - https://www.xiaohongshu.com/explore/6781e20e0000000017038ff5?xsec_token=ABeCQOIir9rjMRbIKYjfVc8hWFOTpg2Xjg1UUg_oE9gfY=: True, msg: success\n"
     ]
    },
    {
     "name": "stderr",
     "output_type": "stream",
     "text": [
      "INFO:__main__:Retrieving all comments - https://www.xiaohongshu.com/explore/67b55e92000000002a00d220?xsec_token=ABm-vYGc-CIFwha5novRSrv4G024vESJ57KM6XyMb1ZHM=: True, msg: success\n"
     ]
    },
    {
     "name": "stderr",
     "output_type": "stream",
     "text": [
      "INFO:__main__:Retrieving all comments - https://www.xiaohongshu.com/explore/680a2eae000000000b02fc17?xsec_token=ABPcwOmvei8nvj-s5tS-rFnt5CK4vIviBVYGwLFi9YbMk=: True, msg: success\n"
     ]
    },
    {
     "name": "stderr",
     "output_type": "stream",
     "text": [
      "INFO:__main__:Retrieving all comments - https://www.xiaohongshu.com/explore/65fc0a27000000001203d8b4?xsec_token=ABkazOZrG-lny4u85dD5Rpf1_CwcR649ZmGSdu3jxhQlk=: True, msg: success\n"
     ]
    },
    {
     "name": "stderr",
     "output_type": "stream",
     "text": [
      "INFO:__main__:Retrieving all comments - https://www.xiaohongshu.com/explore/680b5522000000001c007ebf?xsec_token=ABREVzzv7hWHwZd9s5DtNwngTgqU43u30NY-vTfr1NyzI=: True, msg: success\n"
     ]
    },
    {
     "name": "stderr",
     "output_type": "stream",
     "text": [
      "INFO:__main__:Retrieving all comments - https://www.xiaohongshu.com/explore/67e30ae1000000000903b3b7?xsec_token=AByW9BehrPNJBaQv0bCxCvBx4qoFS01KTmKhgHSRnrdCs=: True, msg: success\n"
     ]
    },
    {
     "name": "stderr",
     "output_type": "stream",
     "text": [
      "INFO:__main__:Retrieving all comments - https://www.xiaohongshu.com/explore/65f92a4700000000130272ab?xsec_token=ABCrtO3Wza0GolLh49-wJEbyee88I5Z0Bf6YNvm-GVbrU=: True, msg: success\n"
     ]
    },
    {
     "name": "stderr",
     "output_type": "stream",
     "text": [
      "INFO:__main__:Retrieving all comments - https://www.xiaohongshu.com/explore/67b59f58000000001201d61c?xsec_token=ABm-vYGc-CIFwha5novRSrvzXLJWivJtz0ywD7E_JuVbw=: True, msg: success\n"
     ]
    },
    {
     "name": "stderr",
     "output_type": "stream",
     "text": [
      "INFO:__main__:Retrieving all comments - https://www.xiaohongshu.com/explore/6781d2c10000000020026f6a?xsec_token=ABeCQOIir9rjMRbIKYjfVc8irK86OgRxI9vQ-mgNlBISk=: True, msg: success\n"
     ]
    },
    {
     "name": "stderr",
     "output_type": "stream",
     "text": [
      "INFO:__main__:Retrieving all comments - https://www.xiaohongshu.com/explore/680b49eb000000001e004e99?xsec_token=ABREVzzv7hWHwZd9s5DtNwnqunA1jGvbRuh5SjwMmizWs=: True, msg: success\n"
     ]
    },
    {
     "name": "stderr",
     "output_type": "stream",
     "text": [
      "INFO:__main__:Retrieving all comments - https://www.xiaohongshu.com/explore/67de6089000000001c03f226?xsec_token=AB4qfeYVwInKTmt_rj4QqGTtcB9cs1PLcuZiaCyzyMU_g=: True, msg: success\n"
     ]
    },
    {
     "name": "stderr",
     "output_type": "stream",
     "text": [
      "INFO:__main__:Retrieving all comments - https://www.xiaohongshu.com/explore/67e7fbd5000000001c008204?xsec_token=ABJucXYAX-nkZDSFOlc4sOOz_oVsP9Q9iOJ83rKHTt7Qg=: True, msg: success\n"
     ]
    },
    {
     "name": "stderr",
     "output_type": "stream",
     "text": [
      "INFO:__main__:Retrieving all comments - https://www.xiaohongshu.com/explore/665b12490000000005004972?xsec_token=ABc2hHJ8jqa9Euyg2ofLnOh8mpPSt-RTDrvtCq9egGjV4=: True, msg: success\n"
     ]
    },
    {
     "name": "stderr",
     "output_type": "stream",
     "text": [
      "INFO:__main__:Retrieving all comments - https://www.xiaohongshu.com/explore/67e5c2b6000000001c006368?xsec_token=ABcR8t4NFnZO1SZkol_Tn7JbXe-xvmcl2aQ_lXI4MiurM=: True, msg: success\n"
     ]
    },
    {
     "name": "stderr",
     "output_type": "stream",
     "text": [
      "INFO:__main__:Retrieving all comments - https://www.xiaohongshu.com/explore/6773cf910000000013018154?xsec_token=ABWv67OHtiDRoOP8kgSVK7_-e_iXH9CHn6oo3hQceWG4I=: True, msg: success\n"
     ]
    },
    {
     "name": "stderr",
     "output_type": "stream",
     "text": [
      "INFO:__main__:Retrieving all comments - https://www.xiaohongshu.com/explore/67f7c53e000000001b024e91?xsec_token=ABhAziZsZNNX2BLk5l3NKxluiyu_HGfEjqcZ-SJwd6YFY=: True, msg: success\n"
     ]
    },
    {
     "name": "stderr",
     "output_type": "stream",
     "text": [
      "INFO:__main__:Retrieving all comments - https://www.xiaohongshu.com/explore/6628285d0000000003022cea?xsec_token=AB_mcaYQiXePqNy-2tA1TIFu5zIVxHmDguiAiquIw9Mws=: True, msg: success\n"
     ]
    },
    {
     "name": "stderr",
     "output_type": "stream",
     "text": [
      "INFO:__main__:Retrieving all comments - https://www.xiaohongshu.com/explore/66ca13dc000000001f01c73a?xsec_token=ABt6JhBqrz5P-KKD33L04BG0zQsiD54g_IJ-8S7bzMkOw=: False, msg: 'comments'\n"
     ]
    },
    {
     "name": "stderr",
     "output_type": "stream",
     "text": [
      "WARNING:__main__:[delayed_spider_search_comments] attempt 1 failed: RuntimeError('API returned success=False, msg=Exception(\"\\'comments\\'\")'). retrying in 2.9s\n"
     ]
    },
    {
     "name": "stderr",
     "output_type": "stream",
     "text": [
      "INFO:__main__:Retrieving all comments - https://www.xiaohongshu.com/explore/66ca13dc000000001f01c73a?xsec_token=ABt6JhBqrz5P-KKD33L04BG0zQsiD54g_IJ-8S7bzMkOw=: False, msg: 'comments'\n"
     ]
    },
    {
     "name": "stderr",
     "output_type": "stream",
     "text": [
      "WARNING:__main__:[delayed_spider_search_comments] attempt 2 failed: RuntimeError('API returned success=False, msg=Exception(\"\\'comments\\'\")'). retrying in 4.9s\n"
     ]
    },
    {
     "name": "stderr",
     "output_type": "stream",
     "text": [
      "INFO:__main__:Retrieving all comments - https://www.xiaohongshu.com/explore/66ca13dc000000001f01c73a?xsec_token=ABt6JhBqrz5P-KKD33L04BG0zQsiD54g_IJ-8S7bzMkOw=: False, msg: 'comments'\n"
     ]
    },
    {
     "name": "stderr",
     "output_type": "stream",
     "text": [
      "ERROR:__main__:[delayed_spider_search_comments] all 3 attempts failed: RuntimeError('API returned success=False, msg=Exception(\"\\'comments\\'\")')\n"
     ]
    },
    {
     "name": "stderr",
     "output_type": "stream",
     "text": [
      "ERROR:__main__:[ERROR] Comments fetch aborted for note ID None: API returned success=False, msg=Exception(\"'comments'\")\n"
     ]
    },
    {
     "name": "stderr",
     "output_type": "stream",
     "text": [
      "INFO:__main__:Retrieving all comments - https://www.xiaohongshu.com/explore/67e611ef000000000903956b?xsec_token=ABDeosgIOQxr2l6eoZ5Gjmx57X8PHIzac2o8ViqWWSAr4=: True, msg: success\n"
     ]
    },
    {
     "name": "stderr",
     "output_type": "stream",
     "text": [
      "INFO:__main__:Retrieving all comments - https://www.xiaohongshu.com/explore/67cc3dd80000000006029fe9?xsec_token=ABFHGqkMmuvFHrMJjdIqg92sjb_W3_yYZgKNi2bLDXYCw=: True, msg: success\n"
     ]
    },
    {
     "name": "stderr",
     "output_type": "stream",
     "text": [
      "INFO:__main__:Retrieving all comments - https://www.xiaohongshu.com/explore/67e611ef000000000903956b?xsec_token=ABDeosgIOQxr2l6eoZ5Gjmx57X8PHIzac2o8ViqWWSAr4=: True, msg: success\n"
     ]
    },
    {
     "name": "stderr",
     "output_type": "stream",
     "text": [
      "INFO:__main__:Retrieving all comments - https://www.xiaohongshu.com/explore/67f4e8c1000000001e00a167?xsec_token=ABM2fF0FDGB2C1ra8SWdyHFomBcqK7mAgBfFk1ufcFMYs=: False, msg: 'comments'\n"
     ]
    },
    {
     "name": "stderr",
     "output_type": "stream",
     "text": [
      "WARNING:__main__:[delayed_spider_search_comments] attempt 1 failed: RuntimeError('API returned success=False, msg=Exception(\"\\'comments\\'\")'). retrying in 2.0s\n"
     ]
    },
    {
     "name": "stderr",
     "output_type": "stream",
     "text": [
      "INFO:__main__:Retrieving all comments - https://www.xiaohongshu.com/explore/67f4e8c1000000001e00a167?xsec_token=ABM2fF0FDGB2C1ra8SWdyHFomBcqK7mAgBfFk1ufcFMYs=: False, msg: 'comments'\n"
     ]
    },
    {
     "name": "stderr",
     "output_type": "stream",
     "text": [
      "WARNING:__main__:[delayed_spider_search_comments] attempt 2 failed: RuntimeError('API returned success=False, msg=Exception(\"\\'comments\\'\")'). retrying in 4.7s\n"
     ]
    },
    {
     "name": "stderr",
     "output_type": "stream",
     "text": [
      "INFO:__main__:Retrieving all comments - https://www.xiaohongshu.com/explore/67f4e8c1000000001e00a167?xsec_token=ABM2fF0FDGB2C1ra8SWdyHFomBcqK7mAgBfFk1ufcFMYs=: False, msg: 'comments'\n"
     ]
    },
    {
     "name": "stderr",
     "output_type": "stream",
     "text": [
      "ERROR:__main__:[delayed_spider_search_comments] all 3 attempts failed: RuntimeError('API returned success=False, msg=Exception(\"\\'comments\\'\")')\n"
     ]
    },
    {
     "name": "stderr",
     "output_type": "stream",
     "text": [
      "ERROR:__main__:[ERROR] Comments fetch aborted for note ID None: API returned success=False, msg=Exception(\"'comments'\")\n"
     ]
    },
    {
     "name": "stderr",
     "output_type": "stream",
     "text": [
      "INFO:__main__:Retrieving all comments - https://www.xiaohongshu.com/explore/67beb4d6000000001201cba4?xsec_token=AB6xreGnlQzkhL1un7RZG9B-Ba6vvPYR1pcVzJjqD2Rxs=: False, msg: 'comments'\n"
     ]
    },
    {
     "name": "stderr",
     "output_type": "stream",
     "text": [
      "WARNING:__main__:[delayed_spider_search_comments] attempt 1 failed: RuntimeError('API returned success=False, msg=Exception(\"\\'comments\\'\")'). retrying in 2.4s\n"
     ]
    },
    {
     "name": "stderr",
     "output_type": "stream",
     "text": [
      "INFO:__main__:Retrieving all comments - https://www.xiaohongshu.com/explore/67beb4d6000000001201cba4?xsec_token=AB6xreGnlQzkhL1un7RZG9B-Ba6vvPYR1pcVzJjqD2Rxs=: False, msg: 'comments'\n"
     ]
    },
    {
     "name": "stderr",
     "output_type": "stream",
     "text": [
      "WARNING:__main__:[delayed_spider_search_comments] attempt 2 failed: RuntimeError('API returned success=False, msg=Exception(\"\\'comments\\'\")'). retrying in 4.7s\n"
     ]
    },
    {
     "name": "stderr",
     "output_type": "stream",
     "text": [
      "INFO:__main__:Retrieving all comments - https://www.xiaohongshu.com/explore/67beb4d6000000001201cba4?xsec_token=AB6xreGnlQzkhL1un7RZG9B-Ba6vvPYR1pcVzJjqD2Rxs=: False, msg: 'comments'\n"
     ]
    },
    {
     "name": "stderr",
     "output_type": "stream",
     "text": [
      "ERROR:__main__:[delayed_spider_search_comments] all 3 attempts failed: RuntimeError('API returned success=False, msg=Exception(\"\\'comments\\'\")')\n"
     ]
    },
    {
     "name": "stderr",
     "output_type": "stream",
     "text": [
      "ERROR:__main__:[ERROR] Comments fetch aborted for note ID None: API returned success=False, msg=Exception(\"'comments'\")\n"
     ]
    },
    {
     "name": "stderr",
     "output_type": "stream",
     "text": [
      "INFO:__main__:Retrieving all comments - https://www.xiaohongshu.com/explore/680b49eb000000001e004e99?xsec_token=ABREVzzv7hWHwZd9s5DtNwnqunA1jGvbRuh5SjwMmizWs=: False, msg: 'comments'\n"
     ]
    },
    {
     "name": "stderr",
     "output_type": "stream",
     "text": [
      "WARNING:__main__:[delayed_spider_search_comments] attempt 1 failed: RuntimeError('API returned success=False, msg=Exception(\"\\'comments\\'\")'). retrying in 2.9s\n"
     ]
    },
    {
     "name": "stderr",
     "output_type": "stream",
     "text": [
      "INFO:__main__:Retrieving all comments - https://www.xiaohongshu.com/explore/680b49eb000000001e004e99?xsec_token=ABREVzzv7hWHwZd9s5DtNwnqunA1jGvbRuh5SjwMmizWs=: False, msg: 'comments'\n"
     ]
    },
    {
     "name": "stderr",
     "output_type": "stream",
     "text": [
      "WARNING:__main__:[delayed_spider_search_comments] attempt 2 failed: RuntimeError('API returned success=False, msg=Exception(\"\\'comments\\'\")'). retrying in 4.1s\n"
     ]
    },
    {
     "ename": "KeyboardInterrupt",
     "evalue": "",
     "output_type": "error",
     "traceback": [
      "\u001b[31m---------------------------------------------------------------------------\u001b[39m",
      "\u001b[31mRuntimeError\u001b[39m                              Traceback (most recent call last)",
      "\u001b[36mCell\u001b[39m\u001b[36m \u001b[39m\u001b[32mIn[4]\u001b[39m\u001b[32m, line 21\u001b[39m, in \u001b[36mwith_retry.<locals>.wrapped\u001b[39m\u001b[34m(*args, **kwargs)\u001b[39m\n\u001b[32m     20\u001b[39m \u001b[38;5;28;01mtry\u001b[39;00m:\n\u001b[32m---> \u001b[39m\u001b[32m21\u001b[39m     \u001b[38;5;28;01mreturn\u001b[39;00m \u001b[43mfn\u001b[49m\u001b[43m(\u001b[49m\u001b[43m*\u001b[49m\u001b[43margs\u001b[49m\u001b[43m,\u001b[49m\u001b[43m \u001b[49m\u001b[43m*\u001b[49m\u001b[43m*\u001b[49m\u001b[43mkwargs\u001b[49m\u001b[43m)\u001b[49m\n\u001b[32m     22\u001b[39m \u001b[38;5;28;01mexcept\u001b[39;00m \u001b[38;5;167;01mException\u001b[39;00m \u001b[38;5;28;01mas\u001b[39;00m e:\n",
      "\u001b[36mCell\u001b[39m\u001b[36m \u001b[39m\u001b[32mIn[4]\u001b[39m\u001b[32m, line 49\u001b[39m, in \u001b[36mdelayed_spider_search_comments\u001b[39m\u001b[34m(note_info, cookies_str, xhs_spider)\u001b[39m\n\u001b[32m     48\u001b[39m \u001b[38;5;28;01mif\u001b[39;00m \u001b[38;5;129;01mnot\u001b[39;00m success:\n\u001b[32m---> \u001b[39m\u001b[32m49\u001b[39m     \u001b[38;5;28;01mraise\u001b[39;00m \u001b[38;5;167;01mRuntimeError\u001b[39;00m(\u001b[33mf\u001b[39m\u001b[33m\"\u001b[39m\u001b[33mAPI returned success=False, msg=\u001b[39m\u001b[38;5;132;01m{\u001b[39;00mmsg\u001b[38;5;132;01m!r}\u001b[39;00m\u001b[33m\"\u001b[39m)\n\u001b[32m     50\u001b[39m \u001b[38;5;66;03m# fixed 10s post-delay\u001b[39;00m\n",
      "\u001b[31mRuntimeError\u001b[39m: API returned success=False, msg=Exception(\"'comments'\")",
      "\nDuring handling of the above exception, another exception occurred:\n",
      "\u001b[31mKeyboardInterrupt\u001b[39m                         Traceback (most recent call last)",
      "\u001b[36mCell\u001b[39m\u001b[36m \u001b[39m\u001b[32mIn[4]\u001b[39m\u001b[32m, line 87\u001b[39m\n\u001b[32m     84\u001b[39m \u001b[38;5;28;01mfor\u001b[39;00m note \u001b[38;5;129;01min\u001b[39;00m list_search_note:\n\u001b[32m     85\u001b[39m     \u001b[38;5;66;03m# cookie = next(cookie_cycle_comments)\u001b[39;00m\n\u001b[32m     86\u001b[39m     \u001b[38;5;28;01mtry\u001b[39;00m:\n\u001b[32m---> \u001b[39m\u001b[32m87\u001b[39m         raw_comments = \u001b[43mdelayed_spider_search_comments\u001b[49m\u001b[43m(\u001b[49m\u001b[43mnote\u001b[49m\u001b[43m,\u001b[49m\u001b[43m \u001b[49m\u001b[43mcookies_str\u001b[49m\u001b[43m,\u001b[49m\u001b[43m \u001b[49m\u001b[43mxhs_spider\u001b[49m\u001b[43m)\u001b[49m\n\u001b[32m     88\u001b[39m         comments, subcomments = handle_list_comment(raw_comments)\n\u001b[32m     89\u001b[39m         list_search_comment.extend(comments)\n",
      "\u001b[36mCell\u001b[39m\u001b[36m \u001b[39m\u001b[32mIn[4]\u001b[39m\u001b[32m, line 26\u001b[39m, in \u001b[36mwith_retry.<locals>.wrapped\u001b[39m\u001b[34m(*args, **kwargs)\u001b[39m\n\u001b[32m     24\u001b[39m     delay = BACKOFF_BASE ** attempt + random.random()\n\u001b[32m     25\u001b[39m     logger.warning(\u001b[33mf\u001b[39m\u001b[33m\"\u001b[39m\u001b[33m[\u001b[39m\u001b[38;5;132;01m{\u001b[39;00mfn.\u001b[34m__name__\u001b[39m\u001b[38;5;132;01m}\u001b[39;00m\u001b[33m] attempt \u001b[39m\u001b[38;5;132;01m{\u001b[39;00mattempt\u001b[38;5;132;01m}\u001b[39;00m\u001b[33m failed: \u001b[39m\u001b[38;5;132;01m{\u001b[39;00me\u001b[38;5;132;01m!r}\u001b[39;00m\u001b[33m. retrying in \u001b[39m\u001b[38;5;132;01m{\u001b[39;00mdelay\u001b[38;5;132;01m:\u001b[39;00m\u001b[33m.1f\u001b[39m\u001b[38;5;132;01m}\u001b[39;00m\u001b[33ms\u001b[39m\u001b[33m\"\u001b[39m)\n\u001b[32m---> \u001b[39m\u001b[32m26\u001b[39m     time.sleep(delay)\n\u001b[32m     27\u001b[39m \u001b[38;5;28;01melse\u001b[39;00m:\n\u001b[32m     28\u001b[39m     logger.error(\u001b[33mf\u001b[39m\u001b[33m\"\u001b[39m\u001b[33m[\u001b[39m\u001b[38;5;132;01m{\u001b[39;00mfn.\u001b[34m__name__\u001b[39m\u001b[38;5;132;01m}\u001b[39;00m\u001b[33m] all \u001b[39m\u001b[38;5;132;01m{\u001b[39;00mMAX_RETRIES\u001b[38;5;132;01m}\u001b[39;00m\u001b[33m attempts failed: \u001b[39m\u001b[38;5;132;01m{\u001b[39;00me\u001b[38;5;132;01m!r}\u001b[39;00m\u001b[33m\"\u001b[39m)\n",
      "\u001b[31mKeyboardInterrupt\u001b[39m: "
     ]
    }
   ],
   "source": [
    "# Flatten helper\n",
    "def handle_list_comment(note_comment):\n",
    "    list_dict_comment = []\n",
    "    list_dict_subcomment = []\n",
    "    for comment in note_comment:\n",
    "        list_dict_comment.append(comment)\n",
    "        if \"sub_comments\" in comment:\n",
    "            for sub in comment[\"sub_comments\"]:\n",
    "                sub[\"comment_id\"] = comment[\"id\"]\n",
    "                list_dict_subcomment.append(sub)\n",
    "    return list_dict_comment, list_dict_subcomment\n",
    "\n",
    "# Retry boilerplate\n",
    "MAX_RETRIES = 3\n",
    "BACKOFF_BASE = 2\n",
    "\n",
    "def with_retry(fn):\n",
    "    def wrapped(*args, **kwargs):\n",
    "        for attempt in range(1, MAX_RETRIES + 1):\n",
    "            try:\n",
    "                return fn(*args, **kwargs)\n",
    "            except Exception as e:\n",
    "                if attempt < MAX_RETRIES:\n",
    "                    delay = BACKOFF_BASE ** attempt + random.random()\n",
    "                    logger.warning(f\"[{fn.__name__}] attempt {attempt} failed: {e!r}. retrying in {delay:.1f}s\")\n",
    "                    time.sleep(delay)\n",
    "                else:\n",
    "                    logger.error(f\"[{fn.__name__}] all {MAX_RETRIES} attempts failed: {e!r}\")\n",
    "                    raise\n",
    "    return wrapped\n",
    "\n",
    "@with_retry\n",
    "def delayed_spider_search_note(keyword, cookies_str, xhs_spider, num_search):\n",
    "    # fixed 7s pre-delay\n",
    "    time.sleep(7)\n",
    "    success, msg, notes = xhs_spider.spider_some_search_note(keyword, num_search, cookies_str)\n",
    "    if not success:\n",
    "        raise RuntimeError(f\"API returned success=False, msg={msg!r}\")\n",
    "    # fixed 7s post-delay\n",
    "    time.sleep(7)\n",
    "    return notes\n",
    "\n",
    "@with_retry\n",
    "def delayed_spider_search_comments(note_info, cookies_str, xhs_spider):\n",
    "    # fixed 10s pre-delay\n",
    "    time.sleep(10)\n",
    "    success, msg, comments = xhs_spider.spider_search_note_all_comment(note_info, cookies_str)\n",
    "    if not success:\n",
    "        raise RuntimeError(f\"API returned success=False, msg={msg!r}\")\n",
    "    # fixed 10s post-delay\n",
    "    time.sleep(10)\n",
    "    return comments\n",
    "\n",
    "if __name__ == \"__main__\":\n",
    "    logging.basicConfig(level=logging.INFO)\n",
    "    logger = logging.getLogger(__name__)\n",
    "\n",
    "    # Initialize\n",
    "    xhs_spider = Data_Spider()\n",
    "    cookies_str, base_path = init()\n",
    "\n",
    "    # cookie_cycle_search = cycle(list_cookies)\n",
    "    # cookie_cycle_comments = cycle(list_cookies)\n",
    "\n",
    "    list_keywords = [\n",
    "        \"ifastglobalbank\", \"ifastgb\", \"ifastdebitcard\",\n",
    "        \"ifast银行\", \"ifast借记卡\",\n",
    "    ]\n",
    "    num_search = 50\n",
    "\n",
    "    list_search_note = []\n",
    "    list_search_comment = []\n",
    "    list_search_subcomment = []\n",
    "\n",
    "    # === Sequential note searches ===\n",
    "    for kw in list_keywords:\n",
    "        try:\n",
    "            notes = delayed_spider_search_note(kw, cookies_str, xhs_spider, num_search)\n",
    "            list_search_note.extend(notes)\n",
    "        except Exception as e:\n",
    "            logger.error(f\"[ERROR] Note search for '{kw}' aborted: {e}\")\n",
    "\n",
    "    # === Sequential comment fetches ===\n",
    "    for note in list_search_note:\n",
    "        # cookie = next(cookie_cycle_comments)\n",
    "        try:\n",
    "            raw_comments = delayed_spider_search_comments(note, cookies_str, xhs_spider)\n",
    "            comments, subcomments = handle_list_comment(raw_comments)\n",
    "            list_search_comment.extend(comments)\n",
    "            list_search_subcomment.extend(subcomments)\n",
    "        except Exception as e:\n",
    "            logger.error(f\"[ERROR] Comments fetch aborted for note ID {note.get('id')}: {e}\")"
   ]
  },
  {
   "cell_type": "code",
   "execution_count": null,
   "id": "89b14227",
   "metadata": {
    "papermill": {
     "duration": null,
     "end_time": null,
     "exception": null,
     "start_time": null,
     "status": "completed"
    },
    "tags": []
   },
   "outputs": [],
   "source": [
    "folder_path = \"datas/parquet_datas\"\n",
    "# Note info dataframe\n",
    "schema_name = \"mimir_igb_dpb_external_data.igb_xhs_scrape_data\"\n",
    "df_pandas_note_info = pd.DataFrame(list_search_note)\n",
    "df_pandas_note_info = df_pandas_note_info.drop(columns=[\"avatar\"])\n",
    "df_pandas_note_info = df_pandas_note_info.rename(columns={\"upload_time\": \"create_time\", \"nickname\": \"author_nickname\", \"user_url\": \"author_url\"})\n",
    "# df_pandas_note_info.columns = ['note_' + col if not col.startswith('note_') else col for col in df_pandas_note_info.columns]\n",
    "df_pandas_note_info.to_parquet(f\"{folder_path}/xhs_api_note_info.parquet\", engine=\"pyarrow\", index=False)\n",
    "\n",
    "\n",
    "\n",
    "# Main Comment dataframe\n",
    "schema_name = \"mimir_igb_dpb_external_data.igb_xhs_scrape_data\"\n",
    "df_pandas_main_comment = pd.DataFrame(list_search_comment)\n",
    "df_pandas_main_comment = df_pandas_main_comment.drop(columns=[\"pictures\", \"user_info\", \"at_users\", \"status\", \"sub_comment_cursor\", \"sub_comment_has_more\", \"show_tags\", \"sub_comments\"])\n",
    "df_pandas_main_comment[\"create_time\"] = df_pandas_main_comment[\"create_time\"].apply(lambda x: timestamp_to_str(x))\n",
    "df_pandas_main_comment = df_pandas_main_comment.rename(columns={\"comment_id\": \"main_comment_id\", \"content\": \"main_comment\"})\n",
    "# df_pandas_main_comment.columns = ['mc_' + col for col in df_pandas_main_comment.columns]\n",
    "\n",
    "df_pandas_main_comment.to_parquet(f\"{folder_path}/xhs_api_main_comment.parquet\", engine=\"pyarrow\", index=False)\n",
    "\n",
    "\n",
    "\n",
    "# Sub Comment dataframe\n",
    "schema_name = \"mimir_igb_dpb_external_data.igb_xhs_scrape_data\"\n",
    "df_pandas_sub_comment = pd.DataFrame(list_search_subcomment)\n",
    "df_pandas_sub_comment = df_pandas_sub_comment.drop(columns=[\"status\", \"user_info\", \"show_tags\", \"target_comment\", \"at_users\", \"pictures\"])\n",
    "\n",
    "df_pandas_sub_comment[\"create_time\"] = df_pandas_sub_comment[\"create_time\"].apply(lambda x: timestamp_to_str(x))\n",
    "df_pandas_sub_comment = df_pandas_sub_comment.rename(columns={\"comment_id\": \"main_comment_id\", \"content\": \"sub_comment\"})\n",
    "# df_pandas_sub_comment.columns = ['sc_' + col for col in df_pandas_sub_comment.columns]\n",
    "df_pandas_sub_comment.to_parquet(f\"{folder_path}/xhs_api_sub_comment.parquet\", engine=\"pyarrow\", index=False)\n"
   ]
  },
  {
   "cell_type": "code",
   "execution_count": null,
   "id": "26d9a4be",
   "metadata": {
    "papermill": {
     "duration": null,
     "end_time": null,
     "exception": null,
     "start_time": null,
     "status": "completed"
    },
    "tags": []
   },
   "outputs": [],
   "source": [
    "df_pandas_sub_comment"
   ]
  }
 ],
 "metadata": {
  "kernelspec": {
   "display_name": ".venv",
   "language": "python",
   "name": "python3"
  },
  "language_info": {
   "codemirror_mode": {
    "name": "ipython",
    "version": 3
   },
   "file_extension": ".py",
   "mimetype": "text/x-python",
   "name": "python",
   "nbconvert_exporter": "python",
   "pygments_lexer": "ipython3",
   "version": "3.11.11"
  },
  "papermill": {
   "default_parameters": {},
   "duration": 1006.728466,
   "end_time": "2025-04-29T08:32:25.655358",
   "environment_variables": {},
   "exception": null,
   "input_path": "main.ipynb",
   "output_path": "output.ipynb",
   "parameters": {},
   "start_time": "2025-04-29T08:15:38.926892",
   "version": "2.6.0"
  }
 },
 "nbformat": 4,
 "nbformat_minor": 5
}